{
 "cells": [
  {
   "cell_type": "code",
   "execution_count": 1,
   "id": "887d2f9b-9f3b-49cc-a63b-729e7a0a0673",
   "metadata": {},
   "outputs": [
    {
     "name": "stdin",
     "output_type": "stream",
     "text": [
      "Enter any random number number or a string:  583184\n"
     ]
    },
    {
     "name": "stdout",
     "output_type": "stream",
     "text": [
      "The Sum of all the digits contained by num_string is: 29\n"
     ]
    }
   ],
   "source": [
    "## Question 1 ## Given an integer or a string (assume to be a single word), find out the sum of its digits. (Read input from console )\n",
    "\n",
    "\n",
    "# Solution\n",
    "num_string = input(\"Enter any random number number or a string: \") # eg 3453\n",
    "\n",
    "# Method 1\n",
    "num_string = int(num_string) # converting into integer or a number\n",
    "digit_sum = 0\n",
    "for i in range(num_string):\n",
    "    digit_sum = digit_sum+ num_string % 10\n",
    "    num_string = num_string // 10\n",
    "print('The Sum of all the digits contained by num_string is:', digit_sum)"
   ]
  },
  {
   "cell_type": "code",
   "execution_count": 3,
   "id": "f651359f-22f1-48ef-9b36-1572a23e91e9",
   "metadata": {},
   "outputs": [
    {
     "name": "stdin",
     "output_type": "stream",
     "text": [
      "Enter the random value of x:  3\n",
      "Enter the random number of terms:  4\n"
     ]
    },
    {
     "name": "stdout",
     "output_type": "stream",
     "text": [
      "Series for exp(x): 18.4\n",
      "Built-in Exponential: 20.085536923187668\n",
      "Computed value for sin(x) Series for random x & n: 0.1453124999999999 , Built-in sin(x) Series for random x & n: 0.1411200080598672\n",
      "Computed value for cos(x) series:  -1.1375\n",
      "Built-in cos(x) value:  -0.9899924966004454\n"
     ]
    }
   ],
   "source": [
    "# Using loops, compute the series for exp(x) taking input as x (and you can also take input for the number of terms to be computed in the series).\n",
    "\n",
    "# 3.(a) Solution for Exponential function or series exp(x)\n",
    "import math\n",
    "x = float(input(\"Enter the random value of x: \"))\n",
    "n = int(input(\"Enter the random number of terms: \"))\n",
    "\n",
    "# Using a loop to compute the series\n",
    "exp_series = 1\n",
    "for i in range(1, n+2):\n",
    "    exp_series = exp_series + ((x ** i) / math.factorial(i))\n",
    "\n",
    "print (\"Series for exp(x): \" + str(exp_series))\n",
    "\n",
    "\n",
    "# Using built-in math.exp function to compute the exponential data and compare our results\n",
    "print (\"Built-in Exponential: \" + str(math.exp(x)))\n",
    "\n",
    "\n",
    "\n",
    "\n",
    "# 3.(b) Solution for Sine function or series sin(x)\n",
    "\n",
    "# Using a loop to compute the series\n",
    "sine_series = 0\n",
    "for i in range(1, n+2):\n",
    "    sine_series = sine_series + (((-1) ** (i - 1)) * (x ** (2 * i - 1))) / math.factorial(2 * i - 1)\n",
    "print (\"Computed value for sin(x) Series for random x & n: \" + str(sine_series), \",\" ,\"Built-in sin(x) Series for random x & n: \" + str(math.sin(x)))\n",
    "\n",
    "\n",
    "# 3.(c) Solution for cosine function or series cos(x)\n",
    "# Compute cosine series\n",
    "cosine_series = 0\n",
    "for i in range(n):\n",
    "    cosine_series += ((-1) ** i) * (x ** (2 * i)) / math.factorial(2 * i)\n",
    "\n",
    "# Output results\n",
    "print(\"Computed value for cos(x) series: \", cosine_series)\n",
    "print(\"Built-in cos(x) value: \", math.cos(x))\n"
   ]
  },
  {
   "cell_type": "code",
   "execution_count": 4,
   "id": "a38265ee-30a9-4b7e-b057-1294b2fa0607",
   "metadata": {},
   "outputs": [
    {
     "name": "stdin",
     "output_type": "stream",
     "text": [
      "Enter a string to check it is palindrome or not:  HurruH\n"
     ]
    },
    {
     "name": "stdout",
     "output_type": "stream",
     "text": [
      "The let_string is a palindrome with 4(a).\n"
     ]
    }
   ],
   "source": [
    "# Q4) WAP to check if an input are a palindrome (a) using string operations (b) without using string operations.\n",
    "\n",
    "# 4.(a) Solution\n",
    "\n",
    "let_string = input(\"Enter a string to check it is palindrome or not: \").replace(\" \", \"\")  # Convert to lowercase and remove spaces\n",
    "if let_string == let_string[::-1]:  # Reverse  the string and compare\n",
    "    print(\"The let_string is a palindrome with 4(a).\")\n",
    "else:\n",
    "    print(\"The let_string is not a palindrome with 4(a).\")"
   ]
  },
  {
   "cell_type": "code",
   "execution_count": 24,
   "id": "819ee54e-1949-40ee-a58b-eaa854e86cdc",
   "metadata": {},
   "outputs": [
    {
     "name": "stdin",
     "output_type": "stream",
     "text": [
      "Enter a string:  Karan\n"
     ]
    },
    {
     "name": "stdout",
     "output_type": "stream",
     "text": [
      "The let_string is not a palindrome with 4(b).\n"
     ]
    }
   ],
   "source": [
    "# Q4) WAP to check if an input are a palindrome (b) without using string operations.\n",
    "\n",
    "# 4.(b) Solution\n",
    "\n",
    "let_string = input(\"Enter a string: \")  \n",
    "length = 0\n",
    "\n",
    "# Finding length without using len()\n",
    "for _ in let_string:\n",
    "    length =length+ 1  \n",
    "\n",
    "is_palindrome = True\n",
    "\n",
    "# Loop to check characters without using slicing\n",
    "for i in range(length // 2):\n",
    "    if let_string[i].lower() != let_string[length - i - 1].lower():  # Comparing characters manually\n",
    "        is_palindrome = False\n",
    "        break\n",
    "\n",
    "if is_palindrome:\n",
    "    print(\"The let_string is a palindrome with 4(b).\")\n",
    "else:\n",
    "    print(\"The let_string is not a palindrome with 4(b).\")\n"
   ]
  },
  {
   "cell_type": "code",
   "execution_count": 26,
   "id": "69edf635-89fe-40a0-ad50-5f61962c89ce",
   "metadata": {},
   "outputs": [
    {
     "name": "stdin",
     "output_type": "stream",
     "text": [
      "Enter any string with multiple words :  Rahul is a good boy\n"
     ]
    },
    {
     "name": "stdout",
     "output_type": "stream",
     "text": [
      "boy good a is Rahul "
     ]
    }
   ],
   "source": [
    "#5 # Given a string str, the task is to reverse the order of the words in the given string. There is a space between two words.\n",
    "\n",
    "str = input(\"Enter any string with multiple words : \")  # Take input\n",
    "words = str.split()  # Split the string into words on teh bases spaces\n",
    "\n",
    "# Reversed the string and print the words\n",
    "for i in range(len(words) - 1, -1, -1):\n",
    "    print(\"the Reversed String is Like\", words[i], end=\" \")"
   ]
  },
  {
   "cell_type": "code",
   "execution_count": 33,
   "id": "240bf087-2931-4334-8e8b-51faf9829654",
   "metadata": {},
   "outputs": [
    {
     "name": "stdin",
     "output_type": "stream",
     "text": [
      "Enter a sentence:  My name is Mr. India.\n"
     ]
    },
    {
     "name": "stdout",
     "output_type": "stream",
     "text": [
      "Every second character fo teh giveb string : ['y', 'n', 'm', ' ', 's', 'M', '.', 'I', 'd', 'a']\n",
      "Reversed string of input String: .aidnI .rM si eman yM\n"
     ]
    }
   ],
   "source": [
    "#6 WAP to take a sentence as input from the user and store every second character from the input string using slicing in a list. Print the remaining string in reverse order using slicing.\n",
    "\n",
    "# Taking a string input from the user\n",
    "let_str = input(\"Enter a sentence: \")\n",
    "\n",
    "# Initialize an empty list to store every second character\n",
    "second_characters = []\n",
    "\n",
    "# Loop through the input string and store every second character\n",
    "for i in range(1, len(let_str), 2):\n",
    "    second_characters.append(let_str[i])\n",
    "print(\"Every second character fo teh giveb string :\", second_characters) # Print the list of every second character\n",
    "\n",
    "\n",
    "reversed_string = let_str[::-1] # Reverse the entire input string using slicing and print it\n",
    "print(\"Reversed string of input String:\", reversed_string)\n"
   ]
  },
  {
   "cell_type": "markdown",
   "id": "37dfe5ae-3f4e-40a2-b862-1714ce3b8b03",
   "metadata": {},
   "source": [
    "#7) Find about continue, and pass statements and WAP to demonstrate them. \n",
    "\n",
    "continue Statement: The continue statement is used inside a loop (like for or while). When Python encounters the continue statement, it skips the current iteration of the loop and moves to the next iteration.\n",
    "\n",
    "pass Statement: The pass statement is a placeholder. It does nothing when executed. It is used when a statement is required syntactically but you don’t want to do anything (e.g., in an empty function or loop).\n"
   ]
  },
  {
   "cell_type": "code",
   "execution_count": 1,
   "id": "a5c01d00-7118-4436-8920-8fb81426974e",
   "metadata": {},
   "outputs": [
    {
     "name": "stdout",
     "output_type": "stream",
     "text": [
      "Here I am using continue:\n",
      "1\n",
      "2\n",
      "3\n",
      "4\n",
      "6\n",
      "\n",
      "Here I am Using pass:\n",
      "1\n",
      "2\n",
      "3\n",
      "4\n",
      "5\n",
      "6\n"
     ]
    }
   ],
   "source": [
    "#7) Find about continue, and pass statements and WAP to demonstrate them. \n",
    "\n",
    "# Demonstrating 'continue' statement\n",
    "print(\"Here I am using continue:\")\n",
    "for i in range(1, 7):\n",
    "    if i == 5:\n",
    "        continue  # Skip the current iteration when i is 5\n",
    "    print(i)\n",
    "\n",
    "# Demonstrating 'pass' statement\n",
    "print(\"\\nHere I am Using pass:\")\n",
    "for i in range(1, 7):\n",
    "    if i == 3:\n",
    "        pass  # Do nothing when i is 3\n",
    "    print(i)\n"
   ]
  },
  {
   "cell_type": "code",
   "execution_count": 5,
   "id": "7076ec92-3162-4881-b61b-aa29d6d4a6c2",
   "metadata": {},
   "outputs": [
    {
     "name": "stdout",
     "output_type": "stream",
     "text": [
      "Original List: [93, 17, 63, 100, 48, 53, 75, 98, 81, 23, 7, 10]\n",
      "Median: 58.0\n",
      "list of numbers less than Median: [17, 48, 53, 23, 7, 10]\n",
      "list of numbers greater than  Median: [93, 63, 100, 75, 98, 81]\n"
     ]
    }
   ],
   "source": [
    "## Question 2  ##  Create a list of random integers in range(1,100) , find the median of the numbers in the list, later divide the list into two sublists with respect to the median.\n",
    "\n",
    "import random\n",
    "# Step 1: Generate a list of 12 random integers in range(1, 100)\n",
    "lst = []\n",
    "for _ in range(12):\n",
    "    lst.append(random.randint(1, 100))\n",
    "\n",
    "print(\"Original List:\", lst)\n",
    "\n",
    "# Step 2: Sort the list to find the median\n",
    "sorted_numbers = sorted(lst)\n",
    "\n",
    "# Find median\n",
    "n = len(sorted_numbers)\n",
    "if n % 2 == 0:\n",
    "    median = (sorted_numbers[n//2 - 1] + sorted_numbers[n//2]) / 2  # Average of middle two numbers\n",
    "else:\n",
    "    median = sorted_numbers[n//2]  # When meadian is a Middle number\n",
    "\n",
    "print(\"Median:\", median)\n",
    "\n",
    "# Step 3: Divide into two sublists using a loop\n",
    "less_or_equal = []\n",
    "greater = []\n",
    "\n",
    "for i in lst:\n",
    "    if i <= median:\n",
    "        less_or_equal.append(i)\n",
    "    else:\n",
    "        greater.append(i)\n",
    "\n",
    "print(\"list of numbers less than Median:\", less_or_equal)\n",
    "print(\"list of numbers greater than  Median:\", greater)\n"
   ]
  },
  {
   "cell_type": "code",
   "execution_count": null,
   "id": "dab05bfc-d290-4989-8c81-4c63df979d57",
   "metadata": {},
   "outputs": [],
   "source": []
  }
 ],
 "metadata": {
  "kernelspec": {
   "display_name": "Python 3 (ipykernel)",
   "language": "python",
   "name": "python3"
  },
  "language_info": {
   "codemirror_mode": {
    "name": "ipython",
    "version": 3
   },
   "file_extension": ".py",
   "mimetype": "text/x-python",
   "name": "python",
   "nbconvert_exporter": "python",
   "pygments_lexer": "ipython3",
   "version": "3.12.3"
  }
 },
 "nbformat": 4,
 "nbformat_minor": 5
}
