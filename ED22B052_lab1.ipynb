{
 "cells": [
  {
   "cell_type": "code",
   "execution_count": 1,
   "id": "24d7e1de-c3c4-40c7-bc7a-8f3d84f42d16",
   "metadata": {},
   "outputs": [
    {
     "name": "stdout",
     "output_type": "stream",
     "text": [
      "\n",
      "Results:\n",
      "Addition of the Numbers: 36\n",
      "Subtraction of Numbers a and c: 19\n",
      "Multiplication of the Numbers a and c: 120\n",
      "Division of the Numbers a and b: 3.4285714285714284\n",
      "Reminder of the Numbers a by c: 4\n",
      "Quotient of the Numbers a by b: 3\n"
     ]
    }
   ],
   "source": [
    "#  <!--Problem Statement Start-->\n",
    "#  Write a simple python program to do arithmetic operations. Follow good programming principles. \n",
    "#  <!--Problem Statement End-->\n",
    "\n",
    "# Simple Arithmetic Operations Program\n",
    "\n",
    "# assigning the values to the interpreter or variable\n",
    "a=24; b=7; c=5\n",
    "\n",
    "# Performing operations\n",
    "addition = a+b+c\n",
    "subtraction = a - c\n",
    "multiplication = a * c\n",
    "division = a / b\n",
    "reminder=a%c\n",
    "Quotient=a//b\n",
    "# Displaying results\n",
    "print(\"\\nResults:\")\n",
    "print('Addition of the Numbers:',addition)\n",
    "print('Subtraction of Numbers a and c:',subtraction)\n",
    "print('Multiplication of the Numbers a and c:', multiplication)\n",
    "print('Division of the Numbers a and b:', division)\n",
    "print('Reminder of the Numbers a by c:', reminder)\n",
    "print('Quotient of the Numbers a by b:', Quotient)"
   ]
  },
  {
   "cell_type": "code",
   "execution_count": null,
   "id": "6054c620-3eca-4d1d-a3f7-d66084294175",
   "metadata": {},
   "outputs": [
    {
     "ename": "",
     "evalue": "",
     "output_type": "error",
     "traceback": [
      "\u001b[1;31mRunning cells with 'Python 3.12.3' requires the ipykernel package.\n",
      "\u001b[1;31mRun the following command to install 'ipykernel' into the Python environment. \n",
      "\u001b[1;31mCommand: '/bin/python3 -m pip install ipykernel -U --user --force-reinstall'"
     ]
    }
   ],
   "source": [
    "#  <!--Problem Statement Start-->\n",
    "#  Write a program to import only the ‘sqrt’ library from ‘math’ and use it to find the root of a number.\n",
    "#  <!--Problem Statement End-->\n",
    "\n",
    "# Import the sqrt function from the math module\n",
    "from math import sqrt\n",
    "\n",
    "# defining the variable or a n interpreter\n",
    "number = 121\n",
    "\n",
    "# Checking if the number is non-negative\n",
    "if number >= 0:\n",
    "    square_root = sqrt(number)\n",
    "    print('Square Root of  teh given Number', square_root)\n",
    "else:\n",
    "    print(\"Square root of a negative number will bw complex number\")\n"
   ]
  },
  {
   "cell_type": "code",
   "execution_count": 3,
   "id": "f636c118-db55-4e01-b55f-fdc2c3d03188",
   "metadata": {},
   "outputs": [
    {
     "name": "stdout",
     "output_type": "stream",
     "text": [
      "Integer: 10 , size of the Integer: 28\n",
      "Float Value: 10.5 , size of the Floating Number: 24\n",
      "Complex Number: (3+4j) , size of the Complex Number: 32\n",
      "String is: Hello, Karan Singh! , size of the String: 60\n",
      "Boolian Value: True , size of the Boolian Value: 28\n"
     ]
    }
   ],
   "source": [
    "#  <!--Problem Statement Start-->\n",
    "#  Write a program that demonstrates the different data types in python. Print the size taken by each data type.\n",
    "#  <!--Problem Statement End-->\n",
    "\n",
    "import sys  \n",
    "\n",
    "# Defining different data types\n",
    "integer_Value = 10            # Integer\n",
    "float_value = 10.5            # Float\n",
    "complex_value = 3 + 4j        # Complex number\n",
    "string_value = \"Hello, Karan Singh!\"   # String\n",
    "boolean_value = True          # Boolean\n",
    "\n",
    "# Displaying data types and their memory sizes\n",
    "print('Integer:', integer_Value, ',' ,'size of the Integer:', sys.getsizeof(integer_Value))\n",
    "print('Float Value:', float_value,',' , 'size of the Floating Number:', sys.getsizeof(float_value))\n",
    "print('Complex Number:', complex_value,',' , 'size of the Complex Number:', sys.getsizeof(complex_value))\n",
    "print('String is:', string_value, ',' ,'size of the String:', sys.getsizeof(string_value))\n",
    "print('Boolian Value:', boolean_value, ',' ,'size of the Boolian Value:', sys.getsizeof(boolean_value))\n"
   ]
  },
  {
   "cell_type": "code",
   "execution_count": null,
   "id": "928c9689-2417-43ec-aa43-f8eaa8375cc7",
   "metadata": {},
   "outputs": [],
   "source": []
  }
 ],
 "metadata": {
  "kernelspec": {
   "display_name": "Python 3",
   "language": "python",
   "name": "python3"
  },
  "language_info": {
   "codemirror_mode": {
    "name": "ipython",
    "version": 3
   },
   "file_extension": ".py",
   "mimetype": "text/x-python",
   "name": "python",
   "nbconvert_exporter": "python",
   "pygments_lexer": "ipython3",
   "version": "3.12.3"
  }
 },
 "nbformat": 4,
 "nbformat_minor": 5
}
