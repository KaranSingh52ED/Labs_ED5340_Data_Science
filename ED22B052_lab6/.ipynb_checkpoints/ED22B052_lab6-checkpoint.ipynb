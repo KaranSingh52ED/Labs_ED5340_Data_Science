{
 "cells": [
  {
   "cell_type": "markdown",
   "id": "46fccddb-57a9-47cf-bada-aa975c3aa170",
   "metadata": {},
   "source": [
    "# Lab 6 - Classes Part 2 , File Handling"
   ]
  },
  {
   "cell_type": "markdown",
   "id": "08d7522b-4d4e-4874-a5d9-18d5c2d6c131",
   "metadata": {},
   "source": [
    "### Q2(i) Write a Python program that reads a text file (sample.txt) and counts the number of words in it."
   ]
  },
  {
   "cell_type": "code",
   "execution_count": 1,
   "id": "34930039-db1f-4ccc-a5d6-4b39b498b159",
   "metadata": {},
   "outputs": [
    {
     "name": "stdout",
     "output_type": "stream",
     "text": [
      "The Total No of Count of words in sample.txt: 26\n"
     ]
    }
   ],
   "source": [
    "def Count1():\n",
    "    f = open('sample.txt', 'r')#Opens a file for reading\n",
    "    data = f.read().split(\" \")  #Reads ALL lines into data\n",
    "    count = 0 \n",
    "    for word in data:\n",
    "        count+=1\n",
    "    return print(f\"The Total No of Count of words in sample.txt: {count}\")\n",
    "    f.close()\n",
    "Count1() # Call The Function Count"
   ]
  },
  {
   "cell_type": "markdown",
   "id": "8a546b91-736d-4308-96c2-1d9894984164",
   "metadata": {},
   "source": [
    "### Q2(ii) Count the occurrences of each word and display the most frequent word."
   ]
  },
  {
   "cell_type": "code",
   "execution_count": 2,
   "id": "7038dc00-b1e9-43e8-a16d-3f3513599aad",
   "metadata": {},
   "outputs": [
    {
     "name": "stdout",
     "output_type": "stream",
     "text": [
      "teh deictionary of all words and their counts:,{'write': 1, 'a': 2, 'python': 1, 'program': 1, 'that': 1, 'reads': 1, 'text': 1, 'file': 1, '(sample.txt)': 1, 'and': 2, 'counts': 1, 'the': 2, 'number': 1, 'of': 1, 'words': 1, 'in': 1, 'it.': 1, 'thjis': 1, 'is': 1, 'bsic': 1, 'read': 1, 'input': 1, 'write.': 1}\n",
      "The most frequent word is 'a' with 2 occurrences.\n"
     ]
    }
   ],
   "source": [
    "def Count2():\n",
    "    with open('sample.txt', 'r') as f:  # Opens a file for reading \n",
    "        data = f.read().lower().split()  # Reads ALL lines into data and splits into words in lowercase\n",
    "    \n",
    "    word_counts_dct = {}\n",
    "    for word in data:\n",
    "        word_counts_dct[word] = word_counts_dct.get(word, 0) + 1\n",
    "        \n",
    "    most_frequent = max(word_counts_dct, key=word_counts_dct.get)\n",
    "    count = word_counts_dct[most_frequent]\n",
    "    print(f\"teh deictionary of all words and their counts:,{word_counts_dct}\")\n",
    "    return most_frequent, count\n",
    "\n",
    "# Call The Function Count2 and print the result\n",
    "most_frequent, count = Count2()\n",
    "print(f\"The most frequent word is '{most_frequent}' with {count} occurrences.\")\n"
   ]
  },
  {
   "cell_type": "markdown",
   "id": "8eb732e1-11bb-4a46-8d44-ae58abd0199b",
   "metadata": {},
   "source": [
    "### Q3(i) Ask the user for their name, age, and city, then write this data to userdata.txt"
   ]
  },
  {
   "cell_type": "code",
   "execution_count": 93,
   "id": "f3c7c15b-e305-4a0c-b424-7c36a7a6a6af",
   "metadata": {},
   "outputs": [
    {
     "name": "stdin",
     "output_type": "stream",
     "text": [
      "Enter the number of users you want to add:  5\n"
     ]
    },
    {
     "name": "stdout",
     "output_type": "stream",
     "text": [
      "Enter data for user 1\n"
     ]
    },
    {
     "name": "stdin",
     "output_type": "stream",
     "text": [
      "Enter The Name, Age, and City:  Karan Singh, 21, Vrindavan\n"
     ]
    },
    {
     "name": "stdout",
     "output_type": "stream",
     "text": [
      "Enter data for user 2\n"
     ]
    },
    {
     "name": "stdin",
     "output_type": "stream",
     "text": [
      "Enter The Name, Age, and City:  Vishal Kumar, 19, Mathura\n"
     ]
    },
    {
     "name": "stdout",
     "output_type": "stream",
     "text": [
      "Enter data for user 3\n"
     ]
    },
    {
     "name": "stdin",
     "output_type": "stream",
     "text": [
      "Enter The Name, Age, and City:  Amit Kumar, 18, Mathura\n"
     ]
    },
    {
     "name": "stdout",
     "output_type": "stream",
     "text": [
      "Enter data for user 4\n"
     ]
    },
    {
     "name": "stdin",
     "output_type": "stream",
     "text": [
      "Enter The Name, Age, and City:  Pratap Singh, 48, Jait(Mathura)\n"
     ]
    },
    {
     "name": "stdout",
     "output_type": "stream",
     "text": [
      "Enter data for user 5\n"
     ]
    },
    {
     "name": "stdin",
     "output_type": "stream",
     "text": [
      "Enter The Name, Age, and City:  Maharani, 80, Radhakund\n"
     ]
    },
    {
     "name": "stdout",
     "output_type": "stream",
     "text": [
      "Writing data for 5 user is Done\n"
     ]
    }
   ],
   "source": [
    "def writeData(n):\n",
    "    f = open('userdata.txt', 'w')\n",
    "    for i in range(n):\n",
    "        print(f\"Enter data for user {i+1}\")\n",
    "        lst = list(map(str, input(\"Enter The Name, Age, and City: \").split(\",\")))\n",
    "        f.write(','.join(lst))\n",
    "        f.write('\\n')\n",
    "    f.close()\n",
    "    print(f\"Writing data for {n} user is Done\")\n",
    "\n",
    "n = int(input(\"Enter the number of users you want to add: \"))\n",
    "writeData(n)"
   ]
  },
  {
   "cell_type": "markdown",
   "id": "354df0c6-25a6-4fe0-aa27-94daa53a8937",
   "metadata": {},
   "source": [
    "### Q3(ii) Read this file and print details of first n users"
   ]
  },
  {
   "cell_type": "code",
   "execution_count": 3,
   "id": "4c4fd44b-2910-4401-b641-2630f151bba8",
   "metadata": {},
   "outputs": [
    {
     "name": "stdout",
     "output_type": "stream",
     "text": [
      "Karan Singh, 21, Vrindavan\n",
      "Vishal Kumar, 19, Mathura\n",
      "Amit Kumar, 18, Mathura\n"
     ]
    }
   ],
   "source": [
    "def readData(n):\n",
    "    with open('userdata.txt', 'r') as f:\n",
    "        for i in range(n):\n",
    "            user = f.readline().strip()\n",
    "            if not user:\n",
    "                break  # Stop if dont have userData\n",
    "            print(user)\n",
    "n = 3\n",
    "readData(n)"
   ]
  },
  {
   "cell_type": "markdown",
   "id": "49ba90c7-ba0a-4073-8d7e-7ed18ea34749",
   "metadata": {},
   "source": [
    "### Q4) You are given a JSON file employees.json that contains employee details. Write a Python program to read, search, modify, and write data from/to this JSON file."
   ]
  },
  {
   "cell_type": "markdown",
   "id": "c91e8a8c-9ee8-464f-aed0-f6ef04d9f491",
   "metadata": {},
   "source": [
    "#### Q4(i) Write a Python program to read and display the contents of employees.json."
   ]
  },
  {
   "cell_type": "code",
   "execution_count": 4,
   "id": "e6ef8287-3555-4751-8425-1e9beb34579a",
   "metadata": {},
   "outputs": [
    {
     "name": "stdout",
     "output_type": "stream",
     "text": [
      "Contents of employees.json:\n",
      "{\n",
      "     \"employees\": [\n",
      "          {\n",
      "               \"id\": 101,\n",
      "               \"name\": \"Alice Johnson\",\n",
      "               \"age\": 30,\n",
      "               \"department\": \"Engineering\",\n",
      "               \"skills\": [\n",
      "                    \"Python\",\n",
      "                    \"Machine Learning\",\n",
      "                    \"Data Science\"\n",
      "               ]\n",
      "          },\n",
      "          {\n",
      "               \"id\": 102,\n",
      "               \"name\": \"Bob Smith\",\n",
      "               \"age\": 25,\n",
      "               \"department\": \"Marketing\",\n",
      "               \"skills\": [\n",
      "                    \"SEO\",\n",
      "                    \"Content Writing\",\n",
      "                    \"Analytics\"\n",
      "               ]\n",
      "          },\n",
      "          {\n",
      "               \"id\": 103,\n",
      "               \"name\": \"Charlie Brown\",\n",
      "               \"age\": 28,\n",
      "               \"department\": \"Human Resources\",\n",
      "               \"skills\": [\n",
      "                    \"Recruitment\",\n",
      "                    \"Training\",\n",
      "                    \"Communication\"\n",
      "               ]\n",
      "          },\n",
      "          {\n",
      "               \"id\": 104,\n",
      "               \"name\": \"Vishal Singh\",\n",
      "               \"age\": 32,\n",
      "               \"department\": \"Finance\",\n",
      "               \"skills\": [\n",
      "                    \"Accounting\",\n",
      "                    \"Financial Analysis\",\n",
      "                    \"Budgeting\"\n",
      "               ]\n",
      "          },\n",
      "          {\n",
      "               \"id\": 104,\n",
      "               \"name\": \"Vishal Singh\",\n",
      "               \"age\": 32,\n",
      "               \"department\": \"Finance\",\n",
      "               \"skills\": [\n",
      "                    \"Accounting\",\n",
      "                    \"Financial Analysis\",\n",
      "                    \"Stoack Market\"\n",
      "               ]\n",
      "          }\n",
      "     ]\n",
      "}\n"
     ]
    }
   ],
   "source": [
    "import json\n",
    "\n",
    "def read_display_data():\n",
    "    with open('employees.json', 'r') as file:\n",
    "        data = json.load(file)\n",
    "        print(\"Contents of employees.json:\")\n",
    "        print(json.dumps(data, indent=5))\n",
    "read_display_data()"
   ]
  },
  {
   "cell_type": "markdown",
   "id": "44254875-ba34-4476-8825-f43d32595745",
   "metadata": {},
   "source": [
    "#### Q4(ii) Search for an employee by their id and display their details."
   ]
  },
  {
   "cell_type": "code",
   "execution_count": 5,
   "id": "e14a6f10-cecf-4e77-8027-293c0fb2790e",
   "metadata": {},
   "outputs": [
    {
     "name": "stdin",
     "output_type": "stream",
     "text": [
      "Enter the employee ID to search:  101\n"
     ]
    },
    {
     "name": "stdout",
     "output_type": "stream",
     "text": [
      "\n",
      "Employee Details:\n",
      "{\n",
      "   \"id\": 101,\n",
      "   \"name\": \"Alice Johnson\",\n",
      "   \"age\": 30,\n",
      "   \"department\": \"Engineering\",\n",
      "   \"skills\": [\n",
      "      \"Python\",\n",
      "      \"Machine Learning\",\n",
      "      \"Data Science\"\n",
      "   ]\n",
      "}\n"
     ]
    }
   ],
   "source": [
    "import json\n",
    "\n",
    "def search_display_data():\n",
    "    with open('employees.json', 'r') as file:\n",
    "        data = json.load(file)\n",
    "    \n",
    "    # user input employeee id\n",
    "    employee_id = int(input(\"Enter the employee ID to search: \"))\n",
    "    \n",
    "    # Searching for employee\n",
    "    found = False\n",
    "    for employee in data['employees']:\n",
    "        if employee['id'] == employee_id:\n",
    "            print(\"\\nEmployee Details:\")\n",
    "            print(json.dumps(employee, indent=3))\n",
    "            found = True\n",
    "            break\n",
    "            \n",
    "    if not found:\n",
    "        print(f\"No employee found with ID: {employee_id}\")\n",
    "\n",
    "search_display_data()\n"
   ]
  },
  {
   "cell_type": "markdown",
   "id": "df7ba18e-4432-49c9-83d5-1c25b1af4109",
   "metadata": {},
   "source": [
    "#### Q4(iii) Add a new employee to the JSON file and save the updated data."
   ]
  },
  {
   "cell_type": "code",
   "execution_count": 6,
   "id": "4ec6902a-f86a-4686-9f11-d43c82d03314",
   "metadata": {},
   "outputs": [
    {
     "name": "stdout",
     "output_type": "stream",
     "text": [
      "New employee added.\n"
     ]
    }
   ],
   "source": [
    "import json\n",
    "\n",
    "# Load existing data\n",
    "with open('employees.json', 'r') as file:\n",
    "    data = json.load(file)\n",
    "\n",
    "# Creating  new employee\n",
    "new_employee = {\n",
    "    \"id\": 104,\n",
    "    \"name\": \"Karan Singh\",\n",
    "    \"age\": 32,\n",
    "    \"department\": \"Finance\",\n",
    "    \"skills\": [\"Accounting\", \"Financial Analysis\", \"Stoack Market\"]\n",
    "}\n",
    "\n",
    "# Append the new employee to the list\n",
    "data['employees'].append(new_employee)\n",
    "\n",
    "# Write the updated data back to the file\n",
    "with open('employees.json', 'w') as file:\n",
    "    json.dump(data, file, indent=4)\n",
    "\n",
    "print(\"New employee added.\")"
   ]
  },
  {
   "cell_type": "markdown",
   "id": "794df82c-33e1-4e0e-84b1-74b75145a0df",
   "metadata": {},
   "source": [
    "### Q1) Create an abstract class Employee with an abstract method calculate_salary(), and implement concrete classes FullTimeEmployee and PartTimeEmployee. Use private variables inside each class for details like insurance_nominee. "
   ]
  },
  {
   "cell_type": "code",
   "execution_count": 19,
   "id": "46cdfd7e-7f2e-4fae-9fab-bb786a6513bd",
   "metadata": {},
   "outputs": [
    {
     "name": "stdout",
     "output_type": "stream",
     "text": [
      "Karan Singh's salary: INR7000\n",
      "Karan Singh's insurance nominee: Karan Singh\n",
      "Amit Kumar's salary: INR1600\n",
      "Amit Kumar's insurance nominee: Amit Kumar\n"
     ]
    }
   ],
   "source": [
    "from abc import ABC, abstractmethod\n",
    "\n",
    "class Employee(ABC):\n",
    "    def __init__(self, name, employee_id):\n",
    "        self.name = name\n",
    "        self.employee_id = employee_id\n",
    "        self._insurance_nominee = None  # Protected variable\n",
    "\n",
    "    @abstractmethod\n",
    "    def calculate_salary(self):\n",
    "        pass\n",
    "\n",
    "    def set_insurance_nominee(self, nominee):\n",
    "        self._insurance_nominee = nominee\n",
    "\n",
    "    def get_insurance_nominee(self):\n",
    "        return self._insurance_nominee\n",
    "\n",
    "class FullTimeEmployee(Employee):\n",
    "    def __init__(self, name, employee_id, monthly_salary):\n",
    "        super().__init__(name, employee_id)\n",
    "        self.__monthly_salary = monthly_salary  # Private variable\n",
    "\n",
    "    def calculate_salary(self):\n",
    "        return self.__monthly_salary\n",
    "\n",
    "    def get_monthly_salary(self):\n",
    "        return self.__monthly_salary\n",
    "\n",
    "class PartTimeEmployee(Employee):\n",
    "    def __init__(self, name, employee_id, hourly_rate, hours_worked):\n",
    "        super().__init__(name, employee_id)\n",
    "        self.__hourly_rate = hourly_rate  # Private variable\n",
    "        self.__hours_worked = hours_worked  # Private variable\n",
    "\n",
    "    def calculate_salary(self):\n",
    "        return self.__hourly_rate * self.__hours_worked\n",
    "\n",
    "    def get_hourly_rate(self):\n",
    "        return self.__hourly_rate\n",
    "\n",
    "    def get_hours_worked(self):\n",
    "        return self.__hours_worked\n",
    "\n",
    "# Example usage\n",
    "full_time_emp = FullTimeEmployee(\"Karan Singh\", \"FT001\", 7000)\n",
    "full_time_emp.set_insurance_nominee(\"Karan Singh\")\n",
    "\n",
    "part_time_emp = PartTimeEmployee(\"Amit Kumar\", \"PT001\", 20, 80)\n",
    "part_time_emp.set_insurance_nominee(\"Amit Kumar\")\n",
    "\n",
    "print(f\"{full_time_emp.name}'s salary: INR{full_time_emp.calculate_salary()}\")\n",
    "print(f\"{full_time_emp.name}'s insurance nominee: {full_time_emp.get_insurance_nominee()}\")\n",
    "\n",
    "print(f\"{part_time_emp.name}'s salary: INR{part_time_emp.calculate_salary()}\")\n",
    "print(f\"{part_time_emp.name}'s insurance nominee: {part_time_emp.get_insurance_nominee()}\")\n"
   ]
  },
  {
   "cell_type": "markdown",
   "id": "17b7edd0-d2d2-428a-b3b5-4692211f282c",
   "metadata": {},
   "source": [
    "### 5. WAP to manage the collections of books in a library in the following  manner:\n",
    "#### Create a Python script that can both read from and write to a CSV file, containing details about each book. Each book's information will include its title, author, publication year, and ISBN number. Your script should be capable of adding new books to the CSV file and listing all the books currently stored in the file.\n",
    "\n",
    "#### The program should begin by checking if the CSV file exists. If it does not, your script should create it and initialize it with the appropriate headers. Then, there should be 2 options: to add a new book or to display all books. When adding a new book, the user should be prompted to enter the title, author, publication year, and ISBN number. This new book should then be added to the CSV file without overwriting the existing entries. When choosing to display all books, the script should read from the CSV file and print each book's details."
   ]
  },
  {
   "cell_type": "code",
   "execution_count": 25,
   "id": "e0a0c3ef-52f6-4969-ade9-9d29d35a5a09",
   "metadata": {},
   "outputs": [
    {
     "name": "stdout",
     "output_type": "stream",
     "text": [
      "\n",
      "Maintain Book Library:\n",
      "\n",
      "1. Add a new book\n",
      "2. Display all books\n",
      "3. Exit\n"
     ]
    },
    {
     "name": "stdin",
     "output_type": "stream",
     "text": [
      "Enter your choice (1-3):  1\n",
      "Enter book title:  Theory of everything\n",
      "Enter author name:  Stephen Hawkings\n",
      "Enter publication year:  2005\n",
      "Enter ISBN number:  51687526598765\n"
     ]
    },
    {
     "name": "stdout",
     "output_type": "stream",
     "text": [
      "Book added successfully!\n",
      "\n",
      "Maintain Book Library:\n",
      "\n",
      "1. Add a new book\n",
      "2. Display all books\n",
      "3. Exit\n"
     ]
    },
    {
     "name": "stdin",
     "output_type": "stream",
     "text": [
      "Enter your choice (1-3):  2\n"
     ]
    },
    {
     "name": "stdout",
     "output_type": "stream",
     "text": [
      "------------------------------\n",
      "Title: The Wings of fire\n",
      "Author: Abdul Kalam\n",
      "Publication Year: 2002\n",
      "ISBN: 12134874635789\n",
      "------------------------------\n",
      "------------------------------\n",
      "Title: Hawking Radiation\n",
      "Author: Stephen Hawkings\n",
      "Publication Year: 2008\n",
      "ISBN: 1132652531313646\n",
      "------------------------------\n",
      "------------------------------\n",
      "Title: Theory of everything\n",
      "Author: Stephen Hawkings\n",
      "Publication Year: 2005\n",
      "ISBN: 51687526598765\n",
      "------------------------------\n",
      "\n",
      "Maintain Book Library:\n",
      "\n",
      "1. Add a new book\n",
      "2. Display all books\n",
      "3. Exit\n"
     ]
    },
    {
     "name": "stdin",
     "output_type": "stream",
     "text": [
      "Enter your choice (1-3):  3\n"
     ]
    },
    {
     "name": "stdout",
     "output_type": "stream",
     "text": [
      "Thank you for using the Book Library system. Goodbye!\n"
     ]
    }
   ],
   "source": [
    "import csv\n",
    "import os\n",
    "\n",
    "CSV_FILE = \"book_library.csv\"\n",
    "# Headers for the CSV file\n",
    "HEADERS = [\"Title\", \"Author\", \"Publication Year\", \"ISBN\"]\n",
    "\n",
    "def create_csv_if_not_exists():\n",
    "    if not os.path.exists(CSV_FILE):\n",
    "        with open(CSV_FILE, 'w', newline='') as file:\n",
    "            writer = csv.writer(file)\n",
    "            writer.writerow(HEADERS)\n",
    "\n",
    "def add_book():\n",
    "    title = input(\"Enter book title: \")\n",
    "    author = input(\"Enter author name: \")\n",
    "    year = input(\"Enter publication year: \")\n",
    "    isbn = input(\"Enter ISBN number: \")\n",
    "    \n",
    "    with open(CSV_FILE, 'a', newline='') as file:\n",
    "        writer = csv.writer(file)\n",
    "        writer.writerow([title, author, year, isbn])\n",
    "    print(\"Book added successfully!\")\n",
    "\n",
    "def display_books():\n",
    "    with open(CSV_FILE, 'r') as file:\n",
    "        reader = csv.reader(file)\n",
    "        next(reader)  # Skip the header row\n",
    "        for row in reader:\n",
    "            print(\"-\" * 30)\n",
    "            print(f\"Title: {row[0]}\")\n",
    "            print(f\"Author: {row[1]}\")\n",
    "            print(f\"Publication Year: {row[2]}\")\n",
    "            print(f\"ISBN: {row[3]}\")\n",
    "            print(\"-\" * 30)\n",
    "\n",
    "def main():\n",
    "    create_csv_if_not_exists()\n",
    "    \n",
    "    while True:\n",
    "        print(\"\\nMaintain Book Library:\\n\")\n",
    "        print(\"1. Add a new book\")\n",
    "        print(\"2. Display all books\")\n",
    "        print(\"3. Exit\")\n",
    "        \n",
    "        choice = input(\"Enter your choice (1-3): \")\n",
    "        \n",
    "        if choice == '1':\n",
    "            add_book()\n",
    "        elif choice == '2':\n",
    "            display_books()\n",
    "        elif choice == '3':\n",
    "            print(\"Thank you for using the Book Library system. Goodbye!\")\n",
    "            break\n",
    "        else:\n",
    "            print(\"Invalid choice. Please try again.\")\n",
    "\n",
    "if __name__ == \"__main__\":\n",
    "    main()\n"
   ]
  },
  {
   "cell_type": "markdown",
   "id": "ca36c05d-0d83-4309-866a-9195f478cbe5",
   "metadata": {},
   "source": [
    "### Q6) Define a Matrix class of dimensions m X n (the values for m and n can be taken as input). Demonstrate matrix addition, subtraction, multiplication, element-by-element multiplication, scalar multiplication (use map here). Use operator overloading wherever possible. (Hint: In the constructor, use 'random' and create list of list using list comprehension. In the arguments of constructor, send the number of rows and columns) Ensure that your implementation follows best practices for class design and encapsulation in Python. Comment your code to explain the functionality of each method."
   ]
  },
  {
   "cell_type": "code",
   "execution_count": 33,
   "id": "bb4d42ea-7693-4bd3-ad77-674bd0b8caa7",
   "metadata": {},
   "outputs": [
    {
     "name": "stdout",
     "output_type": "stream",
     "text": [
      "Matrix 1:\n",
      "0 4 1\n",
      "5 3 4\n",
      "4 9 6\n",
      "\n",
      "Matrix 2:\n",
      "7 8 7\n",
      "6 2 0\n",
      "1 0 0\n",
      "\n",
      "Matrix Addition:\n",
      "7 12 8\n",
      "11 5 4\n",
      "5 9 6\n",
      "\n",
      "Matrix Subtraction:\n",
      "-7 -4 -6\n",
      "-1 1 4\n",
      "3 9 6\n",
      "\n",
      "Matrix Multiplication:\n",
      "25 8 0\n",
      "57 46 35\n",
      "88 50 28\n",
      "\n",
      "Element-wise Multiplication:\n",
      "0 32 7\n",
      "30 6 0\n",
      "4 0 0\n",
      "\n",
      "Scalar Multiplication (m1 * 2):\n",
      "0 8 2\n",
      "10 6 8\n",
      "8 18 12\n"
     ]
    }
   ],
   "source": [
    "import random\n",
    "## From Previous Lab Codes\n",
    "class Matrix:\n",
    "    def __init__(self, rows, cols):\n",
    "        self.rows = rows\n",
    "        self.cols = cols\n",
    "        self.data = [[random.randint(0, 9) for _ in range(cols)] for _ in range(rows)]\n",
    "\n",
    "    def __str__(self):\n",
    "        return \"\\n\".join([\" \".join(map(str, row)) for row in self.data])\n",
    "\n",
    "    def __add__(self, other):\n",
    "        if self.rows != other.rows or self.cols != other.cols:\n",
    "            raise ValueError(\"Matrices must be the same size to addition.\")\n",
    "        result = Matrix(self.rows, self.cols)\n",
    "        result.data = [[self.data[i][j] + other.data[i][j] for j in range(self.cols)] for i in range(self.rows)]\n",
    "        return result\n",
    "\n",
    "    def __sub__(self, other):\n",
    "        if self.rows != other.rows or self.cols != other.cols:\n",
    "            raise ValueError(\"Matrices must be the same size to subtract.\")\n",
    "        result = Matrix(self.rows, self.cols)\n",
    "        result.data = [[self.data[i][j] - other.data[i][j] for j in range(self.cols)] for i in range(self.rows)]\n",
    "        return result\n",
    "\n",
    "    def __mul__(self, other):\n",
    "        if isinstance(other, (int, float)):  # Scalar multiplication\n",
    "            return self.scalar_multiply(other)\n",
    "        elif isinstance(other, Matrix):\n",
    "            if self.cols != other.rows:\n",
    "                raise ValueError(\"Cannot multiply: Columns of first matrix must match rows of second.\")\n",
    "            result = Matrix(self.rows, other.cols)\n",
    "            result.data = [[sum(a * b for a, b in zip(row, col)) for col in zip(*other.data)] for row in self.data]\n",
    "            return result\n",
    "        else:\n",
    "            raise TypeError(\"Unsupported operation\")\n",
    "\n",
    "    def element_wise_multiply(self, other):\n",
    "        if self.rows != other.rows or self.cols != other.cols:\n",
    "            raise ValueError(\"Matrices shoud  have the same dimensions for element-wise multiplication.\")\n",
    "        result = Matrix(self.rows, self.cols)\n",
    "        result.data = [[self.data[i][j] * other.data[i][j] for j in range(self.cols)] for i in range(self.rows)]\n",
    "        return result\n",
    "\n",
    "    def scalar_multiply(self, scalar):\n",
    "        result = Matrix(self.rows, self.cols)\n",
    "        result.data = list(map(lambda row: list(map(lambda x: x * scalar, row)), self.data))\n",
    "        return result\n",
    "\n",
    "if __name__ == \"__main__\":\n",
    "    # Create two 3x3 matrices\n",
    "    m1 = Matrix(3, 3)\n",
    "    m2 = Matrix(3, 3)\n",
    "\n",
    "    print(\"Matrix 1:\")\n",
    "    print(m1)\n",
    "    print(\"\\nMatrix 2:\")\n",
    "    print(m2)\n",
    "\n",
    "    print(\"\\nMatrix Addition:\")\n",
    "    print(m1 + m2)\n",
    "\n",
    "    print(\"\\nMatrix Subtraction:\")\n",
    "    print(m1 - m2)\n",
    "\n",
    "    print(\"\\nMatrix Multiplication:\")\n",
    "    print(m1 * m2)\n",
    "\n",
    "    print(\"\\nElement-wise Multiplication:\")\n",
    "    print(m1.element_wise_multiply(m2))\n",
    "\n",
    "    print(\"\\nScalar Multiplication (m1 * 2):\")\n",
    "    print(m1 * 2)\n"
   ]
  },
  {
   "cell_type": "markdown",
   "id": "b29e0469-d328-49b2-be93-c1352ef4e0c7",
   "metadata": {},
   "source": [
    "# Learning Outcomes-->\n",
    "## I got a good understanding of classes , inheritances, protection data or variable, mathematical approach and file reading, writing, and modification and searching in different types of files as json , csv, txt, etc."
   ]
  },
  {
   "cell_type": "code",
   "execution_count": null,
   "id": "847e8176-bfcc-4fb0-aaa8-a81cdfe1dcda",
   "metadata": {},
   "outputs": [],
   "source": []
  }
 ],
 "metadata": {
  "kernelspec": {
   "display_name": "Python 3 (ipykernel)",
   "language": "python",
   "name": "python3"
  },
  "language_info": {
   "codemirror_mode": {
    "name": "ipython",
    "version": 3
   },
   "file_extension": ".py",
   "mimetype": "text/x-python",
   "name": "python",
   "nbconvert_exporter": "python",
   "pygments_lexer": "ipython3",
   "version": "3.12.3"
  }
 },
 "nbformat": 4,
 "nbformat_minor": 5
}
