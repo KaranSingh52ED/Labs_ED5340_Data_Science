{
 "cells": [
  {
   "cell_type": "markdown",
   "id": "f9ae63ef-eeba-40f8-9707-7cd3ce242a05",
   "metadata": {},
   "source": [
    "## Q1) Determine if two strings are anagrams of each other. (An anagram is a word or phrase formed by rearranging the letters of a different word or phrase)"
   ]
  },
  {
   "cell_type": "code",
   "execution_count": 89,
   "id": "5da9e6dc-cc0b-451c-8bf7-0d569bb9ad37",
   "metadata": {},
   "outputs": [
    {
     "name": "stdin",
     "output_type": "stream",
     "text": [
      "Enter any String1: Ram is a good boy\n",
      "Enter any String2: boY Ram a is gooD\n"
     ]
    },
    {
     "name": "stdout",
     "output_type": "stream",
     "text": [
      "Given strings are Anagrams\n"
     ]
    }
   ],
   "source": [
    "str1=input(\"Enter any String1:\")\n",
    "str2=input(\"Enter any String2:\")\n",
    "str1 = str1.replace(\" \", \"\").lower()\n",
    "str2 = str2.replace(\" \", \"\").lower()\n",
    "if sorted(str1) == sorted(str2):\n",
    "    print(f\"Given strings are Anagrams\")\n",
    "else:\n",
    "    print(f\"Given strings are not Anagrams\")"
   ]
  },
  {
   "cell_type": "markdown",
   "id": "bec4266a-3f3c-44ca-9980-626f58ff258e",
   "metadata": {},
   "source": [
    "## Q2) Implement pow(x, n), which calculates x raised to the power n (i.e., x**n) using recursion."
   ]
  },
  {
   "cell_type": "code",
   "execution_count": 90,
   "id": "2c9ae187-6102-44f5-a8e3-5ce56fe91ba7",
   "metadata": {},
   "outputs": [
    {
     "name": "stdout",
     "output_type": "stream",
     "text": [
      "The Power of x to teh n: 0.25\n"
     ]
    }
   ],
   "source": [
    "def power_x_n(x, n):\n",
    "    if n == 0:\n",
    "        return 1\n",
    "    if n>0:\n",
    "        return x*power_x_n(x, n-1)\n",
    "    else:\n",
    "        n=-n\n",
    "        return  1/(x*power_x_n(x, n-1))\n",
    "print(\"The Power of x to teh n:\", power_x_n(2,-2))"
   ]
  },
  {
   "cell_type": "markdown",
   "id": "b629cdcc-5971-4278-b1e4-2c7ddd5ff75e",
   "metadata": {},
   "source": [
    "## 3) Solve quadratic equations using lambda function of the form a*x^2 +b*x+c=0"
   ]
  },
  {
   "cell_type": "code",
   "execution_count": 91,
   "id": "fc4d9ec5-951d-4d66-9f7f-29e39360254f",
   "metadata": {},
   "outputs": [
    {
     "name": "stdout",
     "output_type": "stream",
     "text": [
      "The solutions of the given equation x1 and x2 are: [2.0, 2.0]\n"
     ]
    }
   ],
   "source": [
    "def quadratic_eqn(a, b, c):\n",
    "    D = b**2 - 4*a*c\n",
    "    if D >= 0:\n",
    "        sol = list(map(lambda x: x, [(-b + (D**0.5)) / (2*a), (-b - (D**0.5)) / (2*a)]))\n",
    "        print(\"The solutions of the given equation x1 and x2 are:\", sol)\n",
    "    else:\n",
    "        print(\"No Real Roots Possible\")\n",
    "\n",
    "quadratic_eqn(1, -4, 4)"
   ]
  },
  {
   "cell_type": "markdown",
   "id": "ee9fae27-344c-46a4-ac50-ca16583fb38d",
   "metadata": {},
   "source": [
    "## 6)  Write a recursive function to the n-th term in the Fibonacci series"
   ]
  },
  {
   "cell_type": "code",
   "execution_count": 92,
   "id": "93a51731-662a-4efe-9b8d-0dc42a4d0dc2",
   "metadata": {},
   "outputs": [
    {
     "name": "stdout",
     "output_type": "stream",
     "text": [
      "5\n"
     ]
    }
   ],
   "source": [
    "def nth_fibonacci(n):\n",
    "    if n==1:\n",
    "        return 1\n",
    "    elif n==0:\n",
    "        return 0\n",
    "    elif n>1:\n",
    "        nth_term=nth_fibonacci(n-2)+nth_fibonacci(n-1)\n",
    "        return nth_term\n",
    "    else:\n",
    "        return print(\"n is not defined corrctly\")\n",
    "print(nth_fibonacci(5))    "
   ]
  },
  {
   "cell_type": "markdown",
   "id": "8f41f7dc-11e7-46c7-8c4b-dfd7640480ba",
   "metadata": {},
   "source": [
    "## Q5(i) Sort the list in ascending order using a lambda function."
   ]
  },
  {
   "cell_type": "code",
   "execution_count": 93,
   "id": "5bad97b7-c1b2-41a3-a8c0-fc6e300047c9",
   "metadata": {},
   "outputs": [
    {
     "name": "stdout",
     "output_type": "stream",
     "text": [
      "After selection sort: [13, 33, 4, 45, 66, 72, 35, 67]\n"
     ]
    }
   ],
   "source": [
    "arr = [13, 33, 4, 45, 66, 72, 35, 67]\n",
    "minimum = lambda a, b: min(range(a, b), key=lambda x: arr[x])\n",
    "\n",
    "swap_elements = lambda i, j: (arr[i], arr[j]) if i != j else None\n",
    "\n",
    "for i in range(n):\n",
    "    min_index = minimum(i, n)\n",
    "    swap_elements(i, min_index)\n",
    "\n",
    "print(\"After selection sort:\", arr)"
   ]
  },
  {
   "cell_type": "markdown",
   "id": "8823afec-fea6-4f0d-afc9-93e5fc14b87f",
   "metadata": {},
   "source": [
    "## Q5(ii) Sort the list in ascending order using a lambda function."
   ]
  },
  {
   "cell_type": "code",
   "execution_count": 94,
   "id": "8220c3e1-7f7c-4042-ac1c-7da6ed1ad6ec",
   "metadata": {},
   "outputs": [
    {
     "name": "stdout",
     "output_type": "stream",
     "text": [
      "[72, 67, 66, 45, 35, 33, 13, 4]\n"
     ]
    }
   ],
   "source": [
    "arr = [13, 33, 4, 45, 66, 72, 35, 67]\n",
    "sorted_descending_array = sorted(arr, key=lambda x: x, reverse=True)\n",
    "print(sorted_descending_array)"
   ]
  },
  {
   "cell_type": "markdown",
   "id": "da419fbf-c654-4954-965c-590fca112b75",
   "metadata": {},
   "source": [
    "## Q5(iii) Sort a list of tuples where each tuple contains a name and an age, based on age using a lambda function. \n",
    "#### people = [(\"Alice\", 25), (\"Bob\", 22), (\"Charlie\", 30), (\"David\", 27)]\n",
    "\n"
   ]
  },
  {
   "cell_type": "code",
   "execution_count": 99,
   "id": "a5758c2b-7607-4b1b-9b2f-7166cd62cbef",
   "metadata": {},
   "outputs": [
    {
     "name": "stdout",
     "output_type": "stream",
     "text": [
      "Sorted Tuple on the based on Age: [('Bob', 22), ('Alice', 25), ('David', 27), ('Charlie', 30)]\n"
     ]
    }
   ],
   "source": [
    "people = [(\"Alice\", 25), (\"Bob\", 22), (\"Charlie\", 30), (\"David\", 27)]\n",
    "sorted_people = sorted(people, key=lambda x: x[1])\n",
    "print(\"Sorted Tuple on the based on Age:\", sorted_people)"
   ]
  },
  {
   "cell_type": "markdown",
   "id": "e22f6721-8fb4-4d24-9576-8610ef9a597c",
   "metadata": {},
   "source": [
    "## Q7) Given a string, count the frequency of the characters using a dictionary."
   ]
  },
  {
   "cell_type": "code",
   "execution_count": 100,
   "id": "183c670b-120a-4db8-a4f8-6b6dc8cf3202",
   "metadata": {},
   "outputs": [
    {
     "name": "stdout",
     "output_type": "stream",
     "text": [
      "Our final Dictionary after Counting letter: {'N': 1, 'o': 2, 'b': 2, 'd': 1, 'y': 1, ' ': 4, 'c': 1, 'a': 5, 'n': 2, 'e': 1, 't': 1, 'J': 1, 'i': 1, 'K': 1, 'z': 1, 'm': 1}\n"
     ]
    }
   ],
   "source": [
    "def count_char_counting(string):\n",
    "    char_counting = {}\n",
    "    for char in string:\n",
    "        if char in char_counting:\n",
    "            char_counting[char] += 1\n",
    "        else:\n",
    "            char_counting[char] = 1\n",
    "    \n",
    "    return char_counting\n",
    "test_string = \"Nobody can beat Jin Kazama\"\n",
    "result = count_char_counting(test_string)\n",
    "print(\"Our final Dictionary after Counting letter:\", result)\n"
   ]
  },
  {
   "cell_type": "markdown",
   "id": "7acc7bcc-6bfa-46b1-998f-a28378e90eb6",
   "metadata": {},
   "source": [
    "## Q4) Write a function that takes a dictionary and renames a key, for example, renaming \"23\" to \"var\", preserving the original value."
   ]
  },
  {
   "cell_type": "code",
   "execution_count": 101,
   "id": "7f5c8673-3774-4088-8e38-b1854d888bb3",
   "metadata": {},
   "outputs": [
    {
     "name": "stdout",
     "output_type": "stream",
     "text": [
      "New Dictionary afetr chaging key: {'Deva': 56, 'Area51': 25}\n"
     ]
    }
   ],
   "source": [
    "def lets_change(dictionary, old_key, new_key):\n",
    "    if old_key in dictionary:\n",
    "        dictionary[new_key] = dictionary.pop(old_key)\n",
    "    return dictionary\n",
    "print(\"New Dictionary afetr chaging key:\",lets_change({\"Ram\":25,\"Deva\":56},\"Ram\",\"Area51\"))"
   ]
  },
  {
   "cell_type": "code",
   "execution_count": null,
   "id": "09331ef9-fb21-40ce-99bf-bd04f1ffdb19",
   "metadata": {},
   "outputs": [],
   "source": []
  }
 ],
 "metadata": {
  "kernelspec": {
   "display_name": "Python 3 (ipykernel)",
   "language": "python",
   "name": "python3"
  },
  "language_info": {
   "codemirror_mode": {
    "name": "ipython",
    "version": 3
   },
   "file_extension": ".py",
   "mimetype": "text/x-python",
   "name": "python",
   "nbconvert_exporter": "python",
   "pygments_lexer": "ipython3",
   "version": "3.12.3"
  }
 },
 "nbformat": 4,
 "nbformat_minor": 5
}
