{
 "cells": [
  {
   "cell_type": "markdown",
   "id": "a6788976-66ec-4f46-ae32-58563d595298",
   "metadata": {},
   "source": [
    "## Q2) Given 2 list. Print their union and intersection.\n",
    "\n",
    "Input: [1, 2, 4, 5], [2, 4, 6]\n",
    "\n",
    "Output: Union - [1, 2, 4, 5, 6]; Intersection - [2, 4]\n"
   ]
  },
  {
   "cell_type": "code",
   "execution_count": 4,
   "id": "bacd8b3f-e48d-410f-906d-7752f4696927",
   "metadata": {},
   "outputs": [
    {
     "name": "stdin",
     "output_type": "stream",
     "text": [
      "Enter elements for list as an array:  1 2 3 4 5 6 7 8 5 543\n",
      "Enter elements for list as an array:  12 3 5 6 7 8 543\n"
     ]
    },
    {
     "name": "stdout",
     "output_type": "stream",
     "text": [
      "Union of lst1 and lst2:['543', '1', '7', '3', '5', '4', '2', '12', '6', '8']\n",
      "Intersection of lst1 and lst2:['543', '7', '3', '5', '6', '8']\n"
     ]
    }
   ],
   "source": [
    "#taken input two lists\n",
    "lst1 = list(input(\"Enter elements for list as an array: \").split())\n",
    "lst2 = list(input(\"Enter elements for list as an array: \").split())\n",
    "#defined intersection and union in terms of sets\n",
    "intersection_lst=list(set(lst1) & set(lst2)) \n",
    "union_lst=list(set(lst1) | set(lst2)) \n",
    "#print the output of Interscetuion and  Union\n",
    "print(f\"Union of lst1 and lst2:{union_lst}\")\n",
    "print(f\"Intersection of lst1 and lst2:{intersection_lst}\")"
   ]
  },
  {
   "cell_type": "markdown",
   "id": "cb0273f6-c010-4314-a48a-6b40e686b921",
   "metadata": {},
   "source": [
    "## Q3) Using list comprehension and random number generation between 10 and 100"
   ]
  },
  {
   "cell_type": "markdown",
   "id": "90fce984-0fb9-4ad8-a1d1-460ac3dac36a",
   "metadata": {},
   "source": [
    "#### 3(a) Print the even numbers"
   ]
  },
  {
   "cell_type": "code",
   "execution_count": 153,
   "id": "a9309d35-1ae4-454c-8815-de1186f65c0c",
   "metadata": {},
   "outputs": [
    {
     "name": "stdout",
     "output_type": "stream",
     "text": [
      "Generated numbers: [26, 77, 64, 23, 16, 49, 57, 90, 94, 41, 18, 49, 52, 33, 39, 94, 90, 12, 83, 17, 84, 48, 20, 73, 66]\n",
      "Even numbers: [26, 64, 16, 90, 94, 18, 52, 94, 90, 12, 84, 48, 20, 66]\n"
     ]
    }
   ],
   "source": [
    "import random\n",
    "\n",
    "# creates a list of random numbers between 10 and 100\n",
    "random_numbers = [random.randint(10, 100) for i in range(25)]\n",
    "\n",
    "# checking the list even number\n",
    "even_numbers = [x for x in random_numbers if x % 2 == 0]\n",
    "\n",
    "print(\"Generated numbers:\", random_numbers)\n",
    "print(\"Even numbers:\", even_numbers)"
   ]
  },
  {
   "cell_type": "markdown",
   "id": "2eeea4a3-0a8a-4887-afc2-00b7559eaf8e",
   "metadata": {},
   "source": [
    "#### 3(b) Print the odd numbers"
   ]
  },
  {
   "cell_type": "code",
   "execution_count": 154,
   "id": "56563f67-488b-4de5-b11e-0be258c45f38",
   "metadata": {},
   "outputs": [
    {
     "name": "stdout",
     "output_type": "stream",
     "text": [
      "Generated random number list: [82, 36, 36, 45, 20, 53, 44, 34, 42, 92, 48, 29, 27, 73, 18, 68, 40, 55, 88, 69, 46, 45, 28, 46, 18]\n",
      "Odd numbers in generated List: [45, 53, 29, 27, 73, 55, 69, 45]\n"
     ]
    }
   ],
   "source": [
    "import random\n",
    "\n",
    "# creates a list of random numbers between 10 and 100\n",
    "random_numbers = [random.randint(10, 100) for j in range(25)]\n",
    "\n",
    "# checking the list odd number\n",
    "odd_numbers = [y for y in random_numbers if y % 2 != 0]\n",
    "\n",
    "print(\"Generated random number list:\", random_numbers)\n",
    "print(\"Odd numbers in generated List:\", odd_numbers)\n"
   ]
  },
  {
   "cell_type": "markdown",
   "id": "635fb891-cf5a-43c2-a5dd-bb8238b3652a",
   "metadata": {},
   "source": [
    "#### 3(c) Print the numbers divisible by 3"
   ]
  },
  {
   "cell_type": "code",
   "execution_count": 155,
   "id": "eb757a7a-1431-44fc-be33-a0ac7e3eef90",
   "metadata": {},
   "outputs": [
    {
     "name": "stdout",
     "output_type": "stream",
     "text": [
      "Generated random number list: [71, 20, 38, 39, 43, 74, 50, 21, 12, 74, 75, 27, 27, 82, 52, 28, 28, 29, 88, 50, 75, 58, 29, 44, 48]\n",
      "Odd numbers in generated List: [39, 21, 12, 75, 27, 27, 75, 48]\n"
     ]
    }
   ],
   "source": [
    "import random\n",
    "\n",
    "# creates a list of random numbers between 10 and 100\n",
    "random_numbers = [random.randint(10, 100) for k in range(25)]\n",
    "\n",
    "# checking the list odd number\n",
    "divisible_by_3 = [z for z in random_numbers if z % 3 == 0]\n",
    "\n",
    "print(\"Generated random number list:\", random_numbers)\n",
    "print(\"Odd numbers in generated List:\", divisible_by_3)\n"
   ]
  },
  {
   "cell_type": "markdown",
   "id": "c6684486-1014-4435-993a-04354b5dde46",
   "metadata": {},
   "source": [
    "## 4(1) Given a 3×3 matrix, write a Python script to modify the matrix such that if any element is 0, the entire row and column containing that 0 are set to 0. Finally, print the original and updated matrix"
   ]
  },
  {
   "cell_type": "code",
   "execution_count": 156,
   "id": "d60b06f2-4fb5-44a5-a952-0d416ecd504d",
   "metadata": {},
   "outputs": [
    {
     "name": "stdout",
     "output_type": "stream",
     "text": [
      "Original Matrix:\n",
      "[1, 2, 2]\n",
      "[4, 0, 6]\n",
      "[7, 8, 1]\n",
      "\n",
      "Updated Matrix:\n",
      "[1, 0, 2]\n",
      "[0, 0, 0]\n",
      "[7, 0, 1]\n"
     ]
    }
   ],
   "source": [
    "original_matrix = [[1, 2, 2],[4, 0, 6],[7, 8, 1]]\n",
    "\n",
    "rows = len(original_matrix)\n",
    "cols = len(original_matrix[0])\n",
    "\n",
    "# Identify the rows and columns that need to be zeroed\n",
    "zero_rows = set()\n",
    "zero_cols = set()\n",
    "\n",
    "for i in range(rows):\n",
    "    for j in range(cols):\n",
    "        if original_matrix[i][j] == 0:\n",
    "            zero_rows.add(i)\n",
    "            zero_cols.add(j)\n",
    "            \n",
    "updated_matrix = [row[:] for row in original_matrix]\n",
    "\n",
    "# Set the identified rows and columns to zero\n",
    "for i in range(rows):\n",
    "    for j in range(cols):\n",
    "        if i in zero_rows or j in zero_cols:\n",
    "            updated_matrix[i][j] = 0\n",
    "\n",
    "# Print the original and updated matrices\n",
    "print(\"Original Matrix:\")\n",
    "for x in original_matrix:\n",
    "    print(x)\n",
    "\n",
    "print(\"\\nUpdated Matrix:\")\n",
    "for y in updated_matrix:\n",
    "    print(y)\n"
   ]
  },
  {
   "cell_type": "markdown",
   "id": "b86eb72b-10f9-48d0-80a8-54652d84bad8",
   "metadata": {},
   "source": [
    "## 4(2) Do the same with list comprehension."
   ]
  },
  {
   "cell_type": "code",
   "execution_count": 157,
   "id": "9991af35-a918-4214-adad-ff1d713dcdba",
   "metadata": {},
   "outputs": [
    {
     "name": "stdout",
     "output_type": "stream",
     "text": [
      "Original Matrix:\n",
      "[1, 2, 2]\n",
      "[4, 0, 6]\n",
      "[7, 8, 1]\n",
      "\n",
      "Updated Matrix:\n",
      "[1, 0, 2]\n",
      "[0, 0, 0]\n",
      "[7, 0, 1]\n"
     ]
    },
    {
     "data": {
      "text/plain": [
       "[None, None, None]"
      ]
     },
     "execution_count": 157,
     "metadata": {},
     "output_type": "execute_result"
    }
   ],
   "source": [
    "original_matrix = [[1, 2, 2],[4, 0, 6],[7, 8, 1]]\n",
    "\n",
    "rows, cols = len(original_matrix), len(original_matrix[0])\n",
    "zero_rows = {x for x in range(rows) for y in range(cols) if original_matrix[x][y] == 0}\n",
    "zero_cols = {y for x in range(rows) for y in range(cols) if original_matrix[x][y] == 0}\n",
    "\n",
    "updated_matrix = [[0 if x in zero_rows or y in zero_cols else original_matrix[x][y] for y in range(cols)] for x in range(rows)]\n",
    "\n",
    "print(\"Original Matrix:\")\n",
    "[print(row) for row in original_matrix]\n",
    "\n",
    "print(\"\\nUpdated Matrix:\")\n",
    "[print(row) for row in updated_matrix]\n"
   ]
  },
  {
   "cell_type": "markdown",
   "id": "c07fbf60-898c-4107-a8d9-4aa66d0e82ce",
   "metadata": {},
   "source": [
    "## Q5) Create 3 tuples one for name, age and salary. Group them using indexing approach (with and without comprehension) and then with zip function. Print the output as a list."
   ]
  },
  {
   "cell_type": "code",
   "execution_count": 158,
   "id": "eb5fade9-27ff-4ea8-80cf-6fc9362eec7c",
   "metadata": {},
   "outputs": [
    {
     "name": "stdout",
     "output_type": "stream",
     "text": [
      "Grouped indexing without comprehension : [('Karan', 22, 80000), ('Amit', 18, 60000), ('Vishal', 20, 70000)]\n",
      "Grouped using list comprehension: [('Karan', 22, 80000), ('Amit', 18, 60000), ('Vishal', 20, 70000)]\n",
      "Grouped using zip function: [('Karan', 22, 80000), ('Amit', 18, 60000), ('Vishal', 20, 70000)]\n"
     ]
    }
   ],
   "source": [
    "names = (\"Karan\", \"Amit\",\"Vishal\")\n",
    "ages = (22, 18, 20)\n",
    "salaries = (80000, 60000, 70000)\n",
    "\n",
    "# index grouping (without comprehension)\n",
    "without_comp_group = []\n",
    "for i in range(len(names)):\n",
    "    without_comp_group.append((names[i], ages[i], salaries[i]))\n",
    "\n",
    "# Grouping using indexing (with comprehension)\n",
    "with_comp_group = [(names[i], ages[i], salaries[i]) for i in range(len(names))]\n",
    "\n",
    "# Grouping using zip function\n",
    "grouped_list_zip = list(zip(names, ages, salaries))\n",
    "\n",
    "# Print the outputs\n",
    "print(\"Grouped indexing without comprehension :\", without_comp_group)\n",
    "print(\"Grouped using list comprehension:\", with_comp_group)\n",
    "print(\"Grouped using zip function:\", grouped_list_zip)"
   ]
  },
  {
   "cell_type": "markdown",
   "id": "5ba545a4-4714-42de-9cee-607c4c6dbba5",
   "metadata": {},
   "source": [
    "## Q7) Given two matrices A and B (list of lists) perform the following operations using zip() and *(unpacking) operator."
   ]
  },
  {
   "cell_type": "markdown",
   "id": "798d6d31-5401-4480-a9d2-eeca183b0205",
   "metadata": {},
   "source": [
    "#### 7(a) Interchange any two rows"
   ]
  },
  {
   "cell_type": "code",
   "execution_count": 159,
   "id": "9c68acbd-d747-496d-8448-b49fcb4d6a13",
   "metadata": {},
   "outputs": [
    {
     "name": "stdout",
     "output_type": "stream",
     "text": [
      "Matrix A after interchanging rows:\n",
      "[13, 12, 11]\n",
      "[4, 5, 6]\n",
      "[7, 8, 9]\n",
      "\n",
      "Matrix B after interchanging rows::\n",
      "[19, 18, 17]\n",
      "[16, 15, 14]\n",
      "[1, 2, 3]\n"
     ]
    },
    {
     "data": {
      "text/plain": [
       "[None, None, None]"
      ]
     },
     "execution_count": 159,
     "metadata": {},
     "output_type": "execute_result"
    }
   ],
   "source": [
    "A = [[1, 2, 3],[4, 5, 6],[7, 8, 9]]\n",
    "B = [[19, 18, 17],[16, 15, 14],[13, 12, 11]]\n",
    "\n",
    "# Interchanging two rows using unpacking operator\n",
    "A[0], B[2] = B[2], A[0]\n",
    "\n",
    "# Print the output\n",
    "print(\"Matrix A after interchanging rows:\")\n",
    "[print(x) for x in A]\n",
    "\n",
    "print(\"\\nMatrix B after interchanging rows::\")\n",
    "[print(y) for y in B]"
   ]
  },
  {
   "cell_type": "markdown",
   "id": "317fc855-ddf8-4eff-b69e-3b154ad66a89",
   "metadata": {},
   "source": [
    "#### 7(b)  Interchange any two columns "
   ]
  },
  {
   "cell_type": "code",
   "execution_count": 160,
   "id": "7b6f40a8-8890-4817-9d91-3e9256a69f57",
   "metadata": {},
   "outputs": [
    {
     "name": "stdout",
     "output_type": "stream",
     "text": [
      "Matrix A after interchanging a column with B:\n",
      "[17, 2, 3]\n",
      "[14, 5, 6]\n",
      "[11, 8, 9]\n",
      "\n",
      "Matrix B after interchanging a column with A:\n",
      "[19, 18, 1]\n",
      "[16, 15, 4]\n",
      "[13, 12, 7]\n"
     ]
    },
    {
     "data": {
      "text/plain": [
       "[None, None, None]"
      ]
     },
     "execution_count": 160,
     "metadata": {},
     "output_type": "execute_result"
    }
   ],
   "source": [
    "A = [[1, 2, 3], [4, 5, 6], [7, 8, 9]]\n",
    "B = [[19, 18, 17], [16, 15, 14], [13, 12, 11]]\n",
    "\n",
    "# Interchanging the first column of A with the last column of B\n",
    "for row_A, row_B in zip(A, B):\n",
    "    row_A[0], row_B[2] = row_B[2], row_A[0]\n",
    "\n",
    "# Print the output\n",
    "print(\"Matrix A after interchanging a column with B:\")\n",
    "[print(row) for row in A]\n",
    "\n",
    "print(\"\\nMatrix B after interchanging a column with A:\")\n",
    "[print(row) for row in B]\n"
   ]
  },
  {
   "cell_type": "markdown",
   "id": "ea086776-eb05-4623-ac0d-dede3e182319",
   "metadata": {},
   "source": [
    "## Q6) For two matrices of size 3X3 each, perform the following matrix operation : (a) Transpose (b) addition, (c) subtraction (d) trace. For each of them, do in both ways i.e. (i) Without using Zip() but use list comprehension (ii) Using Zip()"
   ]
  },
  {
   "cell_type": "markdown",
   "id": "d702f5e5-a10f-45d7-b5f3-159bc47c747b",
   "metadata": {},
   "source": [
    "#### (i) Without Using Zip"
   ]
  },
  {
   "cell_type": "code",
   "execution_count": 161,
   "id": "d0a17d3b-db77-4e81-9462-83e2b5dbe0a5",
   "metadata": {},
   "outputs": [
    {
     "name": "stdout",
     "output_type": "stream",
     "text": [
      "Transpose of A (Without zip): [[1, 4, 7], [2, 5, 8], [3, 6, 9]]\n",
      "Transpose of B (Without zip): [[19, 16, 13], [18, 15, 12], [17, 14, 11]]\n",
      "\n",
      "Addition (Without zip): [[20, 20, 20], [20, 20, 20], [20, 20, 20]]\n",
      "\n",
      "Subtraction (Without zip): [[-18, -16, -14], [-12, -10, -8], [-6, -4, -2]]\n",
      "\n",
      "Trace of A (Without zip): 15\n",
      "Trace of B (Without zip): 45\n"
     ]
    }
   ],
   "source": [
    "A = [[1, 2, 3], [4, 5, 6], [7, 8, 9]]\n",
    "B = [[19, 18, 17], [16, 15, 14], [13, 12, 11]]\n",
    "\n",
    "# (a) Transpose\n",
    "# (i) Without using zip(), using list comprehension\n",
    "transpose_A1 = [[A[j][i] for j in range(3)] for i in range(3)]\n",
    "transpose_B1 = [[B[j][i] for j in range(3)] for i in range(3)]\n",
    "\n",
    "# (b) Addition\n",
    "# (i) Without using zip()\n",
    "addition1 = [[A[i][j] + B[i][j] for j in range(3)] for i in range(3)]\n",
    "\n",
    "# (c) Subtraction\n",
    "# (i) Without using zip()\n",
    "subtraction1 = [[A[i][j] - B[i][j] for j in range(3)] for i in range(3)]\n",
    "\n",
    "# (d) Trace (sum of diagonal elements)\n",
    "# (i) Without using zip()\n",
    "trace_A1 = sum(A[i][i] for i in range(3))\n",
    "trace_B1 = sum(B[i][i] for i in range(3))\n",
    "# Print results\n",
    "print(\"Transpose of A (Without zip):\", transpose_A1)\n",
    "print(\"Transpose of B (Without zip):\", transpose_B1)\n",
    "print(\"\\nAddition (Without zip):\", addition1)\n",
    "\n",
    "print(\"\\nSubtraction (Without zip):\", subtraction1)\n",
    "print(\"\\nTrace of A (Without zip):\", trace_A1)\n",
    "print(\"Trace of B (Without zip):\", trace_B1)"
   ]
  },
  {
   "cell_type": "markdown",
   "id": "7e60a2f1-a4ba-4dd1-94a3-2f9267f1d2b4",
   "metadata": {},
   "source": [
    "#### (ii) Using Zip"
   ]
  },
  {
   "cell_type": "code",
   "execution_count": 95,
   "id": "dab28725-7b73-4257-b23e-9af3a9e0584f",
   "metadata": {},
   "outputs": [
    {
     "name": "stdout",
     "output_type": "stream",
     "text": [
      "Transpose of A (Using zip): [[1, 4, 7], [2, 5, 8], [3, 6, 9]]\n",
      "Transpose of B (Using zip): [[19, 16, 13], [18, 15, 12], [17, 14, 11]]\n",
      "Addition (Using zip): [[20, 20, 20], [20, 20, 20], [20, 20, 20]]\n",
      "Subtraction (Using zip): [[-18, -16, -14], [-12, -10, -8], [-6, -4, -2]]\n",
      "Trace of A (Using zip): 15\n",
      "Trace of B (Using zip): 45\n"
     ]
    }
   ],
   "source": [
    "A = [[1, 2, 3], [4, 5, 6], [7, 8, 9]]\n",
    "B = [[19, 18, 17], [16, 15, 14], [13, 12, 11]]\n",
    "\n",
    "# (a) Transpose\n",
    "# (ii) Using zip()\n",
    "transpose_A2 = [list(row) for row in zip(*A)]\n",
    "transpose_B2 = [list(row) for row in zip(*B)]\n",
    "\n",
    "# (b) Addition\n",
    "# (ii) Using zip()\n",
    "addition2 = [list(map(sum, zip(*rows))) for rows in zip(A, B)]\n",
    "\n",
    "# (c) Subtraction\n",
    "# (ii) Using zip()\n",
    "subtraction2 = [list(map(lambda x: x[0] - x[1], zip(*rows))) for rows in zip(A, B)]\n",
    "\n",
    "# (d) Trace (sum of diagonal elements)\n",
    "# (ii) Using zip() is tricky since zip works on rows, so we use enumerate along with zip\n",
    "trace_A2 = sum(row[i] for i, row in enumerate(zip(*A)))\n",
    "trace_B2 = sum(row[i] for i, row in enumerate(zip(*B)))\n",
    "\n",
    "# Print results\n",
    "print(\"Transpose of A (Using zip):\", transpose_A2)\n",
    "print(\"Transpose of B (Using zip):\", transpose_B2)\n",
    "print(\"Addition (Using zip):\", addition2)\n",
    "print(\"Subtraction (Using zip):\", subtraction2)\n",
    "print(\"Trace of A (Using zip):\", trace_A2)\n",
    "print(\"Trace of B (Using zip):\", trace_B2)\n"
   ]
  },
  {
   "cell_type": "markdown",
   "id": "ea92d193-a431-40e7-aaaf-9a2fbe2aaf75",
   "metadata": {},
   "source": [
    "## Q9) Find out the methods that are applicable for list but not for tuples. List them out."
   ]
  },
  {
   "cell_type": "markdown",
   "id": "b5219c9f-099a-4174-908a-ad8abedaa987",
   "metadata": {},
   "source": [
    "#### Methods available for list but not for tuple:\n",
    "##### i) append(item) → Adds an item to the end of the list.\n",
    "##### ii) extend(iterable) → Extends the list by appending elements from an iterable.\n",
    " ##### iii) insert(index, item) → Inserts an item at a specified index.\n",
    " ##### iv) remove(item) → Removes the first occurrence of the specified item.\n",
    "##### iv)  pop(index) → Removes and returns an item at a specified index (or the last item if no index is given).\n",
    "##### v) clear() → Removes all elements from the list.\n",
    "##### vi) sort(key=None, reverse=False) → Sorts the list in place.\n",
    "##### vii) reverse() → Reverses the list in place."
   ]
  },
  {
   "cell_type": "markdown",
   "id": "3bc7ba39-824b-4f44-b98b-fe6cd4bd6deb",
   "metadata": {},
   "source": [
    "##  Q8) Write a Python program that takes a list of integers and a target sum as input. Use a set to determine if there exist two distinct numbers in the list whose sum equals the target. If such a pair exists, print \"Pair found\"; otherwise, print \"No pair found\".\n",
    "\n",
    "nums = [3, 8, 12, 4, 7, 9] \n",
    "\n",
    "target = 15\n",
    "\n",
    "nums = [5, 1, 9, 14, 6, 3]\n",
    "\n",
    "target = 20"
   ]
  },
  {
   "cell_type": "code",
   "execution_count": 162,
   "id": "765da56f-d612-4c2d-9d32-ad6c5b43af84",
   "metadata": {},
   "outputs": [
    {
     "name": "stdout",
     "output_type": "stream",
     "text": [
      "Pair found\n"
     ]
    }
   ],
   "source": [
    "nums = [5, 1, 9, 14, 6, 3]\n",
    "\n",
    "target = 20\n",
    "# defined a set to contain all the values from nums\n",
    "new_set = set()\n",
    "pair_found = False\n",
    "# defined x and y where x+y=target\n",
    "for x in nums:\n",
    "    y = target - x\n",
    "    if y in new_set:\n",
    "        print(\"Pair found\")\n",
    "        pair_found = True\n",
    "        break\n",
    "    new_set.add(x)\n",
    "\n",
    "if not pair_found:\n",
    "    print(\"No pair found\")\n"
   ]
  },
  {
   "cell_type": "markdown",
   "id": "781421cc-2484-4a7f-b2ce-b22cd75b1ea9",
   "metadata": {},
   "source": [
    "## Q1) Write a python code to find k closest neighbors of the given element in a sorted array (list)\n",
    "\n",
    "Input: [2, 3, 4, 5, 6, 7], k = 3, a = 5 \n",
    "\n",
    "Output: [3, 4, 6] \n",
    "\n",
    "Rule: The integer ‘a’ may or may not be present in the input array. If ‘a’ is less than or equal to the first element in the input array, return the first k elements. Similarly, if ‘a’ is more than or equal to the last element in the input array, return the last k elements. The returned elements should be in the same order as present in the input array."
   ]
  },
  {
   "cell_type": "code",
   "execution_count": 163,
   "id": "a64ccaa9-8fc4-42cb-abbb-4f1d24a37d31",
   "metadata": {},
   "outputs": [
    {
     "name": "stdout",
     "output_type": "stream",
     "text": [
      "list of 3 closest number to the 85 is: [95, 85, 84]\n"
     ]
    }
   ],
   "source": [
    "lst = [2,3,4,5,6,7,25,36.65,95,85,84,98]\n",
    "\n",
    "k = 3\n",
    "a = 85\n",
    "n = len(lst)\n",
    "\n",
    "if a <= lst[0]:\n",
    "    print(lst[:k])  # First k elements\n",
    "elif a >= lst[-1]:\n",
    "    print(lst[-k:])  # Last k elements\n",
    "else:\n",
    "    # Find the index of the element or closest smaller element\n",
    "    x, z = 0, n - 1\n",
    "    while x <= z:\n",
    "        y = (x + z) // 2\n",
    "        if lst[y] == a:\n",
    "            x = y\n",
    "            break\n",
    "        elif lst[y] < a:\n",
    "            x = y + 1\n",
    "        else:\n",
    "            z = y - 1\n",
    "\n",
    "    # x is the index where the element or the closest larger element exists\n",
    "    i, j = x - 1, x\n",
    "\n",
    "    # group the k closest neighbors\n",
    "    closest_elements = []\n",
    "    while len(closest_elements) < k:\n",
    "        if i >= 0 and (j >= n or abs(lst[i] - a) <= abs(lst[j] - a)):\n",
    "            closest_elements.append(lst[i])\n",
    "            i=i-1\n",
    "        else:\n",
    "            closest_elements.append(lst[j])\n",
    "            j=j+1\n",
    "\n",
    "    print(f\"list of {k} closest number to the {a} is: {closest_elements}\")\n"
   ]
  },
  {
   "cell_type": "code",
   "execution_count": null,
   "id": "e4249b3d-16ee-44e5-b205-80dfb38f345b",
   "metadata": {},
   "outputs": [],
   "source": []
  }
 ],
 "metadata": {
  "kernelspec": {
   "display_name": "Python 3 (ipykernel)",
   "language": "python",
   "name": "python3"
  },
  "language_info": {
   "codemirror_mode": {
    "name": "ipython",
    "version": 3
   },
   "file_extension": ".py",
   "mimetype": "text/x-python",
   "name": "python",
   "nbconvert_exporter": "python",
   "pygments_lexer": "ipython3",
   "version": "3.12.3"
  }
 },
 "nbformat": 4,
 "nbformat_minor": 5
}
