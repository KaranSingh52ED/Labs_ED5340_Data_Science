{
 "cells": [
  {
   "cell_type": "markdown",
   "id": "ae4feff5-c791-4fb5-998e-c39123dc877b",
   "metadata": {},
   "source": [
    "# Lab 5 - Classes, Objects, Operator Overloading, Inheritance ( Single Level )"
   ]
  },
  {
   "cell_type": "markdown",
   "id": "94566b3d-d72b-413e-9d62-9ce79c72e13b",
   "metadata": {},
   "source": [
    "### 1)  Create a class Item with attributes name, quantity, and price. Write a method to calculate and return the total value of the item (i.e., quantity * price)."
   ]
  },
  {
   "cell_type": "code",
   "execution_count": 1,
   "id": "c0aad9b3-c6e6-4e87-b683-02f4fa3d5a03",
   "metadata": {},
   "outputs": [
    {
     "name": "stdout",
     "output_type": "stream",
     "text": [
      "name: Karan Singh, Total Value: 115\n"
     ]
    },
    {
     "data": {
      "text/plain": [
       "115"
      ]
     },
     "execution_count": 1,
     "metadata": {},
     "output_type": "execute_result"
    }
   ],
   "source": [
    "class Details:\n",
    "    def datainput(self, name, quantity, price):\n",
    "        self.name = name\n",
    "        self.quantity = quantity\n",
    "        self.price = price\n",
    "        \n",
    "    def calculation(self):\n",
    "        total_value = self.quantity * self.price\n",
    "        print(f\"name: {self.name}, Total Value: {total_value}\")\n",
    "        return total_value\n",
    "\n",
    "data1 = Details()\n",
    "data1.datainput('Karan Singh', 23, 5)\n",
    "\n",
    "data1.calculation()"
   ]
  },
  {
   "cell_type": "markdown",
   "id": "f2c4a9b3-c324-4ee0-a8db-5972b1c29ae5",
   "metadata": {},
   "source": [
    "### 2) Create a class named Car with attributes make, model, and year. Write a method that displays the car details. Read the car information from the console, create an instance, and call the method to display the details."
   ]
  },
  {
   "cell_type": "code",
   "execution_count": 2,
   "id": "26e87cd6-206d-4cce-99d4-a890dc6f25f1",
   "metadata": {},
   "outputs": [
    {
     "name": "stdin",
     "output_type": "stream",
     "text": [
      "Enter the Car Brand Name:  Mahindra\n",
      "Enter the Car Model Name:  XUV700\n",
      "Enter the Car Manufactured Year:  2021\n"
     ]
    },
    {
     "name": "stdout",
     "output_type": "stream",
     "text": [
      "Brand Name =  Mahindra ,  Car Model =  XUV700 ,  Manufactured year =  2021\n"
     ]
    }
   ],
   "source": [
    "class Car:\n",
    "    def carDetails(self, make, model, year):\n",
    "        self.make = make\n",
    "        self.model = model\n",
    "        self.year = year\n",
    "\n",
    "    def displayDetails(self):\n",
    "        print('Brand Name = ', self.make, \", \" , 'Car Model = ',  self.model, \", \" , 'Manufactured year = ', self.year)\n",
    "        \n",
    "make = input(\"Enter the Car Brand Name: \")\n",
    "model = input(\"Enter the Car Model Name: \")\n",
    "year = input(\"Enter the Car Manufactured Year: \")\n",
    "\n",
    "car1 = Car()\n",
    "car1.carDetails(make, model, year)\n",
    "car1.displayDetails()"
   ]
  },
  {
   "cell_type": "markdown",
   "id": "b5ad4c67-07fb-493c-90d0-e8d5e9657bbc",
   "metadata": {},
   "source": [
    "### 3(a) Implement a Python class ComplexNumber that overloads the concerned operator to add, subtract and multiply two complex numbers."
   ]
  },
  {
   "cell_type": "code",
   "execution_count": 1,
   "id": "0b2de9e8-6939-4f50-b4fa-acbb9e6448c7",
   "metadata": {},
   "outputs": [
    {
     "name": "stdout",
     "output_type": "stream",
     "text": [
      "complex1: 1 + 5i , complex2: -5 + 2i\n",
      "complex1 + complex2 = -4 + 7i\n",
      "complex1 - complex2 = 6 + 3i\n",
      "complex1 * complex2 = -15 - 23i\n"
     ]
    }
   ],
   "source": [
    "class ComplexNumber:\n",
    "    def __init__(self, r, i):\n",
    "        self.real = r\n",
    "        self.imag = i\n",
    "        \n",
    "    def __add__(self, other):\n",
    "        return ComplexNumber(self.real + other.real, self.imag + other.imag)\n",
    "\n",
    "    def __sub__(self, other):\n",
    "        return ComplexNumber(self.real - other.real, self.imag - other.imag)\n",
    "\n",
    "    def __mul__(self, other):\n",
    "        real_part = self.real * other.real - self.imag * other.imag\n",
    "        imag_part = self.real * other.imag + self.imag * other.real\n",
    "        return ComplexNumber(real_part, imag_part)\n",
    "\n",
    "    def __str__(self):\n",
    "        if self.imag >= 0:\n",
    "            return f\"{self.real} + {self.imag}i\"\n",
    "        else:\n",
    "            return f\"{self.real} - {-self.imag}i\"\n",
    "            \n",
    "if __name__ == \"__main__\":\n",
    "    complex1 = ComplexNumber(1,5)  \n",
    "    complex2 = ComplexNumber(-5,2)\n",
    "\n",
    "    print(\"complex1:\", complex1 ,end=\" , \")\n",
    "    print(\"complex2:\", complex2)\n",
    "    \n",
    "    comp_addition= complex1 + complex2\n",
    "    print(\"complex1 + complex2 =\", comp_addition)\n",
    "    \n",
    "    comp_substraction = complex1 - complex2\n",
    "    print(\"complex1 - complex2 =\", comp_substraction)\n",
    "\n",
    "    comp_multiplication = complex1*complex2\n",
    "    print(\"complex1 * complex2 =\", comp_multiplication)"
   ]
  },
  {
   "cell_type": "markdown",
   "id": "dd6a7869-6963-4a21-a563-48a9f10af8f2",
   "metadata": {},
   "source": [
    "### 3(b) Derive a subclass PolarComplex that converts the complex number into polar coordinates and overrides the multiplication   behavior to multiply magnitudes and add angles. "
   ]
  },
  {
   "cell_type": "code",
   "execution_count": 2,
   "id": "5263e050-0f8b-4f67-9ac4-a8690de19f18",
   "metadata": {},
   "outputs": [
    {
     "name": "stdout",
     "output_type": "stream",
     "text": [
      "Polar coordinates of z1: (1.4142135623730951, 0.7853981633974483)\n",
      "Polar coordinates of z2: (1.0, 1.5707963267948966)\n",
      "Result of multiplication: PolarComplex(-1.0, 1.0000000000000002)\n",
      "Polar coordinates of result: (1.4142135623730951, 2.356194490192345)\n"
     ]
    }
   ],
   "source": [
    "import cmath\n",
    "\n",
    "class PolarComplex(complex):\n",
    "    def __new__(self, r, i):\n",
    "        return super().__new__(self, r, i)\n",
    "    \n",
    "    def polar_conversion(self):\n",
    "        r = abs(self)  # Magnitude\n",
    "        theta = cmath.phase(self)  # Phase angle \n",
    "        return (r, theta)\n",
    "    \n",
    "    def __mul__(self, other):\n",
    "        if isinstance(other, PolarComplex):\n",
    "            # multiplication\n",
    "            r1, angle1 = self.polar_conversion()\n",
    "            r2, angle2 = other.polar_conversion()\n",
    "            r_result = r1 * r2\n",
    "            theta_result = angle1 + angle2\n",
    "            \n",
    "            # Rectangular form conversion\n",
    "            result = cmath.rect(r_result, theta_result)\n",
    "            return PolarComplex(result.real, result.imag)\n",
    "        else:\n",
    "            raise TypeError(\"Multiplication is possible between two Polar Complex objects.\")\n",
    "    \n",
    "    def __repr__(self):\n",
    "        return f\"PolarComplex({self.real}, {self.imag})\"\n",
    "\n",
    "complex1 = PolarComplex(1, 1) \n",
    "complex2 = PolarComplex(0, 1) \n",
    "\n",
    "print(\"Polar coordinates of z1:\", complex1.polar_conversion())\n",
    "print(\"Polar coordinates of z2:\",complex2.polar_conversion())\n",
    "\n",
    "result = complex1 * complex2\n",
    "print(\"Result of multiplication:\", result)\n",
    "print(\"Polar coordinates of result:\", result.polar_conversion())\n"
   ]
  },
  {
   "cell_type": "markdown",
   "id": "74b22bea-5139-4fcd-b5d6-a34364cc2d34",
   "metadata": {},
   "source": [
    "### 4(a) Create a Polynomial class that uses a list of coefficients where the index represents the power of x (e.g., coefficients [7,0,4,3] represent 7+0x+4x2+3x3) . Overload operators for polynomial subtraction (__sub__). "
   ]
  },
  {
   "cell_type": "code",
   "execution_count": 3,
   "id": "34bad260-a585-4e45-8ac5-60f44e29ba7a",
   "metadata": {},
   "outputs": [
    {
     "name": "stdout",
     "output_type": "stream",
     "text": [
      "P1: 3 + 4x + 6x^2 + 7x^3 + 8x^4 + 2x^5\n",
      "P2: 5 + 2x + 1x^2\n",
      "Result: -2 + 2x + 5x^2 + 7x^3 + 8x^4 + 2x^5\n"
     ]
    }
   ],
   "source": [
    "class Polynomial:\n",
    "    def __init__(self, coeff):\n",
    "        self.coeff = coeff\n",
    "\n",
    "    def __sub__(self, other):\n",
    "        max_len = max(len(self.coeff), len(other.coeff))\n",
    "        \n",
    "        coeff1 = self.coeff + [0] * (max_len - len(self.coeff))\n",
    "        coeff2 = other.coeff + [0] * (max_len - len(other.coeff))\n",
    "        \n",
    "        result_coefficients = [coeff1[i] - coeff2[i] for i in range(max_len)]\n",
    "        \n",
    "        return Polynomial(result_coefficients)\n",
    "\n",
    "    def __str__(self):\n",
    "        terms = []\n",
    "        for power, coeff in enumerate(self.coeff):\n",
    "            if coeff != 0:\n",
    "                if power == 0:\n",
    "                    terms.append(f\"{coeff}\")\n",
    "                    \n",
    "                elif power == 1:\n",
    "                    terms.append(f\"{coeff}x\")\n",
    "                    \n",
    "                else:\n",
    "                    terms.append(f\"{coeff}x^{power}\")\n",
    "                    \n",
    "        return \" + \".join(terms) if terms else \"0\"\n",
    "\n",
    "\n",
    "p1 = Polynomial([3,4,6,7,8,2])  \n",
    "p2 = Polynomial([5, 2, 1])\n",
    "\n",
    "result = p1 - p2\n",
    "\n",
    "print(\"P1:\", p1)\n",
    "print(\"P2:\", p2)      \n",
    "print(\"Result:\", result)\n"
   ]
  },
  {
   "cell_type": "markdown",
   "id": "4507437a-d4eb-4fd4-a994-2abe776d007d",
   "metadata": {},
   "source": [
    "### 4(b) Derive a subclass DerivativePolynomial that includes a method to compute the derivative of the polynomial. "
   ]
  },
  {
   "cell_type": "code",
   "execution_count": 4,
   "id": "7962a3d6-4fb7-42e7-9f3e-993d584e57af",
   "metadata": {},
   "outputs": [
    {
     "name": "stdout",
     "output_type": "stream",
     "text": [
      "Given Polynomial: 6x^2 + 8x + 5\n",
      "Derivative Polynomial: 12x + 8\n"
     ]
    }
   ],
   "source": [
    "class Polynomial:\n",
    "    def __init__(self, c):\n",
    "        self.coefficients = c\n",
    "\n",
    "    def __str__(self):\n",
    "        terms = []\n",
    "        for power, coef in enumerate(self.coefficients):\n",
    "            if coef != 0:\n",
    "                term = f\"{coef}x^{power}\" if power > 1 else (f\"{coef}x\" if power == 1 else f\"{coef}\")\n",
    "                terms.append(term)\n",
    "                \n",
    "        return \" + \".join(terms[::-1]) or \"0\"\n",
    "\n",
    "class DerivativePolynomial(Polynomial):\n",
    "    def derivative(self):\n",
    "        if len(self.coefficients) <= 1:\n",
    "            return DerivativePolynomial([0])\n",
    "        derived_coefficients = [power * coef for power, coef in enumerate(self.coefficients)][1:]\n",
    "        return DerivativePolynomial(derived_coefficients)\n",
    "        \n",
    "if __name__ == \"__main__\":\n",
    "    poly = DerivativePolynomial([5,8,6])\n",
    "    print(\"Given Polynomial:\", poly)\n",
    "\n",
    "    derivative_of_poly = poly.derivative()\n",
    "    print(\"Derivative Polynomial:\", derivative_of_poly)"
   ]
  },
  {
   "cell_type": "markdown",
   "id": "78108cd8-3e64-4065-bb69-7537530a6d7e",
   "metadata": {},
   "source": [
    "### 4(c) Additionally, override the subtraction operator to calculate the difference between the derivatives of two polynomials"
   ]
  },
  {
   "cell_type": "code",
   "execution_count": 5,
   "id": "e039888e-6820-49ec-88c7-3d5dbd0000c4",
   "metadata": {},
   "outputs": [
    {
     "name": "stdout",
     "output_type": "stream",
     "text": [
      "Given polynomials poly1 ans poly2 are : 6x^2 + 8x + 5  ,  3x^2 + 5x + 1\n",
      "Derivative of poly1 and poly2 are : 12x + 8  ,  6x + 5\n",
      "Sunstraction of derivatives of poly1 and poly2: 6x + 3\n"
     ]
    }
   ],
   "source": [
    "# using above code \n",
    "\n",
    "class Polynomial:\n",
    "    def __init__(self, c):\n",
    "        self.coefficients = c\n",
    "\n",
    "    def __str__(self):\n",
    "        terms = []\n",
    "        for power, coef in enumerate(self.coefficients):\n",
    "            if coef != 0:\n",
    "                term = f\"{coef}x^{power}\" if power > 1 else (f\"{coef}x\" if power == 1 else f\"{coef}\")\n",
    "                terms.append(term)\n",
    "                \n",
    "        return \" + \".join(terms[::-1]) or \"0\"\n",
    "\n",
    "class DerivativePolynomial(Polynomial):\n",
    "    def derivative(self):\n",
    "        if len(self.coefficients) <= 1:\n",
    "            return DerivativePolynomial([0])\n",
    "        derived_coefficients = [power * coef for power, coef in enumerate(self.coefficients)][1:]\n",
    "        return DerivativePolynomial(derived_coefficients)\n",
    "\n",
    "    def __sub__(self, other):\n",
    "        if not isinstance(other, DerivativePolynomial):\n",
    "            raise TypeError(\"Subtraction is only supported between two DerivativePolynomial objects\")\n",
    "            \n",
    "        derivative_self = self.derivative()\n",
    "        derivative_other = other.derivative()\n",
    "\n",
    "        max_length = max(len(derivative_self.coefficients), len(derivative_other.coefficients))\n",
    "        padded_self = derivative_self.coefficients + [0] * (max_length - len(derivative_self.coefficients))\n",
    "        padded_other = derivative_other.coefficients + [0] * (max_length - len(derivative_other.coefficients))\n",
    "\n",
    "        result_coefficients = [padded_self[i] - padded_other[i] for i in range(max_length)]\n",
    "        \n",
    "        return DerivativePolynomial(result_coefficients)\n",
    "\n",
    "\n",
    "if __name__ == \"__main__\":\n",
    "    poly1 = DerivativePolynomial([5, 8, 6])\n",
    "    poly2 = DerivativePolynomial([1, 5, 3])\n",
    "\n",
    "    print(\"Given polynomials poly1 ans poly2 are :\", poly1,\" , \", poly2)\n",
    "  \n",
    "\n",
    "    derivative_of_poly1 = poly1.derivative()\n",
    "    derivative_of_poly2 = poly2.derivative()\n",
    "    print(\"Derivative of poly1 and poly2 are :\", derivative_of_poly1,\" , \", derivative_of_poly2)\n",
    "    \n",
    "    difference_of_derivatives = poly1 - poly2\n",
    "    print(\"Sunstraction of derivatives of poly1 and poly2:\",difference_of_derivatives)\n"
   ]
  },
  {
   "cell_type": "markdown",
   "id": "4964bc79-9f41-41a4-b4f2-8d455cfc8ea8",
   "metadata": {},
   "source": [
    "### 5) What is the concept of containership in OOPs ( You can read about this ). How is it different from inheritance? Explain with a good example program how containership is useful."
   ]
  },
  {
   "attachments": {},
   "cell_type": "markdown",
   "id": "17758b12-8ec7-40d8-b84b-c04507e5edef",
   "metadata": {},
   "source": [
    "#### Containership or composition means one class has another class inside it, like saying a car \"has an\" engine. It helps build bigger systems by combining smaller parts and makes the code easier to reuse and manage.\n",
    "#### but for inheritance which make a relation between parent class and children class like children class can aceess all the data of the parent class but parent class can;t.\n"
   ]
  },
  {
   "cell_type": "code",
   "execution_count": 6,
   "id": "e406b6f4-b8ca-45b4-98d3-8b193d104e09",
   "metadata": {},
   "outputs": [
    {
     "name": "stdout",
     "output_type": "stream",
     "text": [
      "ClassRoom 101 has the following students:\n",
      "Name: Vishal, Age: 20\n",
      "Name: Karan, Age: 22\n"
     ]
    }
   ],
   "source": [
    "class Student:\n",
    "    def __init__(self, name, age):\n",
    "        self.name = name\n",
    "        self.age = age\n",
    "\n",
    "    def studentDeitals(self):\n",
    "        return f\"Name: {self.name}, Age: {self.age}\"\n",
    "\n",
    "class ClassRoom:\n",
    "    def __init__(self, room_number):\n",
    "        self.roomNumber = room_number\n",
    "        self.students = []\n",
    "\n",
    "    def add_student(self, student):\n",
    "        self.students.append(student)\n",
    "\n",
    "    def displayStudents(self):\n",
    "        print(f\"ClassRoom {self.roomNumber} has the following students:\")\n",
    "        for student in self.students:\n",
    "            print(student.studentDeitals())\n",
    "\n",
    "student1 = Student(\"Vishal\", 20)\n",
    "student2 = Student(\"Karan\", 22)\n",
    "\n",
    "classroom = ClassRoom(101)\n",
    "\n",
    "classroom.add_student(student1)\n",
    "classroom.add_student(student2)\n",
    "\n",
    "classroom.displayStudents()\n"
   ]
  },
  {
   "cell_type": "markdown",
   "id": "261da1e1-cff6-4887-b54a-bbc0dfb6bfe6",
   "metadata": {},
   "source": [
    "### 6) Design a Vector class that supports: i) 3D vector operations (addition, subtraction, dot product, cross product. ii) Scalar multiplication. iii) Magnitude calculation. iv) Operator overloading for +, ==, and < (compare magnitudes). Read 2 vectors from the console, create instances for each and demonstrate use of each method and operator overloading."
   ]
  },
  {
   "cell_type": "code",
   "execution_count": 12,
   "id": "96c7a94e-8c30-475e-b48a-47a076950847",
   "metadata": {},
   "outputs": [
    {
     "name": "stdin",
     "output_type": "stream",
     "text": [
      "Enter the vector components (x y z):  1 4 7\n",
      "Enter the vector components (x y z):  2 5 8\n"
     ]
    },
    {
     "name": "stdout",
     "output_type": "stream",
     "text": [
      "\n",
      "Vector Operations Results:\n",
      "Addition: 1.0i + 4.0j + 7.0k + 2.0i + 5.0j + 8.0k = 3.0i + 9.0j + 15.0k\n",
      "Subtraction: 1.0i + 4.0j + 7.0k - 2.0i + 5.0j + 8.0k = -1.0i + -1.0j + -1.0k\n",
      "Dot Product: 1.0i + 4.0j + 7.0k.dot(2.0i + 5.0j + 8.0k) = 78.0\n",
      "Cross Product: 1.0i + 4.0j + 7.0k.cross(2.0i + 5.0j + 8.0k) = -3.0i + 6.0j + -3.0k\n",
      "Scalar Multiplication: 1.0i + 4.0j + 7.0k * 25 = 50.0i + 125.0j + 200.0k\n",
      "Magnitude of 1.0i + 4.0j + 7.0k: 8.12403840463596 Magnitude of 2.0i + 5.0j + 8.0k: 9.643650760992955\n",
      "Are vectors equal? 1.0i + 4.0j + 7.0k == 2.0i + 5.0j + 8.0k: False\n",
      "Is magnitude of 1.0i + 4.0j + 7.0k < magnitude of 2.0i + 5.0j + 8.0k? : True\n"
     ]
    }
   ],
   "source": [
    "import math\n",
    "## i assumed that vector has ai+bj+ck\n",
    "class Vector:\n",
    "    def __init__(self,a,b,c):\n",
    "        self.x = a\n",
    "        self.y = b\n",
    "        self.z = c\n",
    "    # for Addition \n",
    "    def __add__(self, other):\n",
    "        return Vector(self.x + other.x, self.y + other.y, self.z + other.z)\n",
    "    # for Sunstraction\n",
    "    def __sub__(self, other):\n",
    "        return Vector(self.x - other.x, self.y - other.y, self.z - other.z)\n",
    "    # for dot product\n",
    "    def dot(self, other):\n",
    "        return self.x * other.x + self.y * other.y + self.z * other.z\n",
    "    # for cross product\n",
    "    def cross(self, other):\n",
    "        return Vector(\n",
    "            self.y * other.z - self.z * other.y,\n",
    "            self.z * other.x - self.x * other.z,\n",
    "            self.x * other.y - self.y * other.x,\n",
    "        )\n",
    "    # for for scaler multiplication \n",
    "    def scalarMultiply(self, scalar):\n",
    "        return Vector(self.x * scalar, self.y * scalar, self.z * scalar) \n",
    "    # for magnitude of given vector\n",
    "    def magnitude(self):\n",
    "        return math.sqrt(self.x**2 + self.y**2 + self.z**2)\n",
    "    # for checkign equality \n",
    "    def __eq__(self, other):\n",
    "        return ( math.isclose(self.x, other.x) and math.isclose(self.y, other.y) and math.isclose(self.z, other.z))\n",
    "    # for checkign vector1 is less than vector2 or not\n",
    "    def __lt__(self, other):\n",
    "        return self.magnitude() < other.magnitude()\n",
    "    # for checkign equality \n",
    "    def __str__(self):\n",
    "        return f\"{self.x}i + {self.y}j + {self.z}k\"\n",
    "\n",
    "\n",
    "def inputVector():\n",
    "    x, y, z = map(float, input(\"Enter the vector components (x y z): \").split())\n",
    "    return Vector(x, y, z)\n",
    "\n",
    "if __name__ == \"__main__\":\n",
    "    v1 = inputVector()\n",
    "    v2 = inputVector()\n",
    "\n",
    "    print(\"\\nVector Operations Results:\")\n",
    "    print(f\"Addition: {v1} + {v2} = {v1 + v2}\")\n",
    "    print(f\"Subtraction: {v1} - {v2} = {v1 - v2}\")\n",
    "    print(f\"Dot Product: {v1}.dot({v2}) = {v1.dot(v2)}\")\n",
    "    print(f\"Cross Product: {v1}.cross({v2}) = {v1.cross(v2)}\")\n",
    "    \n",
    "    scalar = 25\n",
    "    print(f\"Scalar Multiplication: {v1} * {scalar} = {v2.scalarMultiply(scalar)}\")\n",
    "    print(f\"Magnitude of {v1}: {v1.magnitude()}\", f\"Magnitude of {v2}: {v2.magnitude()}\")\n",
    "    print(f\"Are vectors equal? {v1} == {v2}: {v1 == v2}\")\n",
    "    print(f\"Is magnitude of {v1} < magnitude of {v2}? : {v1 < v2}\")"
   ]
  },
  {
   "cell_type": "code",
   "execution_count": null,
   "id": "2c159402-ea42-478a-b273-4e37d85985a2",
   "metadata": {},
   "outputs": [],
   "source": []
  }
 ],
 "metadata": {
  "kernelspec": {
   "display_name": "Python 3 (ipykernel)",
   "language": "python",
   "name": "python3"
  },
  "language_info": {
   "codemirror_mode": {
    "name": "ipython",
    "version": 3
   },
   "file_extension": ".py",
   "mimetype": "text/x-python",
   "name": "python",
   "nbconvert_exporter": "python",
   "pygments_lexer": "ipython3",
   "version": "3.12.3"
  }
 },
 "nbformat": 4,
 "nbformat_minor": 5
}
